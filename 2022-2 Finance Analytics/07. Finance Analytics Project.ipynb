{
 "cells": [
  {
   "cell_type": "markdown",
   "metadata": {},
   "source": [
    "   \n",
    "\n",
    "# 📈 2022 파이낸스 어낼리틱스 강민구/이윤지  \n",
    "\n",
    "# 📈 소비자물가지수에 영향을 미치는 주요 경제 지표 분석 및 정책 제안 프로젝트\n"
   ]
  },
  {
   "cell_type": "code",
   "execution_count": 1,
   "metadata": {
    "vscode": {
     "languageId": "r"
    }
   },
   "outputs": [],
   "source": [
    "# 경로 지정(working directory)\n",
    "setwd(\"C:/Users/mingu/Desktop/Finance Analytics Data\")"
   ]
  },
  {
   "cell_type": "markdown",
   "metadata": {},
   "source": [
    "***\n",
    "\n",
    "## 💸 데이터 불러오기  \n"
   ]
  },
  {
   "cell_type": "code",
   "execution_count": 2,
   "metadata": {
    "vscode": {
     "languageId": "r"
    }
   },
   "outputs": [
    {
     "name": "stderr",
     "output_type": "stream",
     "text": [
      "\n",
      "Attaching package: 'dplyr'\n",
      "\n",
      "The following objects are masked from 'package:stats':\n",
      "\n",
      "    filter, lag\n",
      "\n",
      "The following objects are masked from 'package:base':\n",
      "\n",
      "    intersect, setdiff, setequal, union\n",
      "\n"
     ]
    },
    {
     "data": {
      "text/html": [
       "<table>\n",
       "<thead><tr><th scope=col>시점</th><th scope=col>경상수지</th><th scope=col>상품수지</th><th scope=col>기준금리</th><th scope=col>무역수지</th><th scope=col>물가지수</th><th scope=col>환율</th><th scope=col>유가</th><th scope=col>KOSPI</th><th scope=col>COFIX금리</th><th scope=col>COVID</th></tr></thead>\n",
       "<tbody>\n",
       "\t<tr><td>2018.01 </td><td>2556.9  </td><td> 7338.0 </td><td>1.75    </td><td>3415969 </td><td>98.106  </td><td>1069.08 </td><td>64.7    </td><td>2520.938</td><td>1.78    </td><td>0       </td></tr>\n",
       "\t<tr><td>2018.02 </td><td>3226.7  </td><td> 4793.3 </td><td>1.75    </td><td>2801376 </td><td>98.855  </td><td>1084.21 </td><td>67.8    </td><td>2439.104</td><td>1.77    </td><td>0       </td></tr>\n",
       "\t<tr><td>2018.03 </td><td>5210.4  </td><td> 9216.5 </td><td>1.75    </td><td>6412094 </td><td>98.751  </td><td>1060.25 </td><td>64.4    </td><td>2451.570</td><td>1.82    </td><td>0       </td></tr>\n",
       "\t<tr><td>2018.04 </td><td>1490.4  </td><td> 9402.2 </td><td>1.75    </td><td>6156273 </td><td>98.931  </td><td>1069.33 </td><td>65.9    </td><td>2458.225</td><td>1.79    </td><td>0       </td></tr>\n",
       "\t<tr><td>2018.05 </td><td>8792.3  </td><td>10550.2 </td><td>1.75    </td><td>6229021 </td><td>98.979  </td><td>1079.59 </td><td>70.3    </td><td>2461.301</td><td>1.82    </td><td>0       </td></tr>\n",
       "\t<tr><td>2018.06 </td><td>7980.1  </td><td> 9413.5 </td><td>1.75    </td><td>6079212 </td><td>98.779  </td><td>1113.91 </td><td>74.6    </td><td>2394.508</td><td>1.84    </td><td>0       </td></tr>\n",
       "</tbody>\n",
       "</table>\n"
      ],
      "text/latex": [
       "\\begin{tabular}{r|lllllllllll}\n",
       " 시점 & 경상수지 & 상품수지 & 기준금리 & 무역수지 & 물가지수 & 환율 & 유가 & KOSPI & COFIX금리 & COVID\\\\\n",
       "\\hline\n",
       "\t 2018.01  & 2556.9   &  7338.0  & 1.75     & 3415969  & 98.106   & 1069.08  & 64.7     & 2520.938 & 1.78     & 0       \\\\\n",
       "\t 2018.02  & 3226.7   &  4793.3  & 1.75     & 2801376  & 98.855   & 1084.21  & 67.8     & 2439.104 & 1.77     & 0       \\\\\n",
       "\t 2018.03  & 5210.4   &  9216.5  & 1.75     & 6412094  & 98.751   & 1060.25  & 64.4     & 2451.570 & 1.82     & 0       \\\\\n",
       "\t 2018.04  & 1490.4   &  9402.2  & 1.75     & 6156273  & 98.931   & 1069.33  & 65.9     & 2458.225 & 1.79     & 0       \\\\\n",
       "\t 2018.05  & 8792.3   & 10550.2  & 1.75     & 6229021  & 98.979   & 1079.59  & 70.3     & 2461.301 & 1.82     & 0       \\\\\n",
       "\t 2018.06  & 7980.1   &  9413.5  & 1.75     & 6079212  & 98.779   & 1113.91  & 74.6     & 2394.508 & 1.84     & 0       \\\\\n",
       "\\end{tabular}\n"
      ],
      "text/markdown": [
       "\n",
       "| 시점 | 경상수지 | 상품수지 | 기준금리 | 무역수지 | 물가지수 | 환율 | 유가 | KOSPI | COFIX금리 | COVID |\n",
       "|---|---|---|---|---|---|---|---|---|---|---|\n",
       "| 2018.01  | 2556.9   |  7338.0  | 1.75     | 3415969  | 98.106   | 1069.08  | 64.7     | 2520.938 | 1.78     | 0        |\n",
       "| 2018.02  | 3226.7   |  4793.3  | 1.75     | 2801376  | 98.855   | 1084.21  | 67.8     | 2439.104 | 1.77     | 0        |\n",
       "| 2018.03  | 5210.4   |  9216.5  | 1.75     | 6412094  | 98.751   | 1060.25  | 64.4     | 2451.570 | 1.82     | 0        |\n",
       "| 2018.04  | 1490.4   |  9402.2  | 1.75     | 6156273  | 98.931   | 1069.33  | 65.9     | 2458.225 | 1.79     | 0        |\n",
       "| 2018.05  | 8792.3   | 10550.2  | 1.75     | 6229021  | 98.979   | 1079.59  | 70.3     | 2461.301 | 1.82     | 0        |\n",
       "| 2018.06  | 7980.1   |  9413.5  | 1.75     | 6079212  | 98.779   | 1113.91  | 74.6     | 2394.508 | 1.84     | 0        |\n",
       "\n"
      ],
      "text/plain": [
       "  시점    경상수지 상품수지 기준금리 무역수지 물가지수 환율    유가 KOSPI   \n",
       "1 2018.01 2556.9    7338.0  1.75     3415969  98.106   1069.08 64.7 2520.938\n",
       "2 2018.02 3226.7    4793.3  1.75     2801376  98.855   1084.21 67.8 2439.104\n",
       "3 2018.03 5210.4    9216.5  1.75     6412094  98.751   1060.25 64.4 2451.570\n",
       "4 2018.04 1490.4    9402.2  1.75     6156273  98.931   1069.33 65.9 2458.225\n",
       "5 2018.05 8792.3   10550.2  1.75     6229021  98.979   1079.59 70.3 2461.301\n",
       "6 2018.06 7980.1    9413.5  1.75     6079212  98.779   1113.91 74.6 2394.508\n",
       "  COFIX금리 COVID\n",
       "1 1.78      0    \n",
       "2 1.77      0    \n",
       "3 1.82      0    \n",
       "4 1.79      0    \n",
       "5 1.82      0    \n",
       "6 1.84      0    "
      ]
     },
     "metadata": {},
     "output_type": "display_data"
    },
    {
     "data": {
      "text/plain": [
       "     시점              경상수지        상품수지          기준금리    \n",
       " Length:48          Min.   :-4024   Min.   :  488.2   Min.   :0.500  \n",
       " Class :character   1st Qu.: 4845   1st Qu.: 5687.7   1st Qu.:0.750  \n",
       " Mode  :character   Median : 6801   Median : 6861.2   Median :1.000  \n",
       "                    Mean   : 6278   Mean   : 7223.1   Mean   :1.151  \n",
       "                    3rd Qu.: 8188   3rd Qu.: 9262.9   3rd Qu.:1.500  \n",
       "                    Max.   :12063   Max.   :13105.2   Max.   :1.750  \n",
       "    무역수지           물가지수           환율           유가      \n",
       " Min.   :-1662429   Min.   : 98.11   Min.   :1060   Min.   :24.10  \n",
       " 1st Qu.: 2247774   1st Qu.: 99.33   1st Qu.:1114   1st Qu.:59.92  \n",
       " Median : 3818792   Median : 99.76   Median :1146   Median :65.85  \n",
       " Mean   : 3806648   Mean   :100.26   Mean   :1147   Mean   :63.14  \n",
       " 3rd Qu.: 5745334   3rd Qu.:100.81   3rd Qu.:1187   3rd Qu.:73.30  \n",
       " Max.   : 9617280   Max.   :104.04   Max.   :1231   Max.   :82.40  \n",
       "     KOSPI        COFIX금리         COVID         \n",
       " Min.   :1787   Min.   :0.800   Min.   :     0.0  \n",
       " 1st Qu.:2123   1st Qu.:0.915   1st Qu.:     0.0  \n",
       " Median :2296   Median :1.550   Median :     5.5  \n",
       " Mean   :2441   Mean   :1.424   Mean   : 13141.4  \n",
       " 3rd Qu.:2808   3rd Qu.:1.812   3rd Qu.: 11953.8  \n",
       " Max.   :3259   Max.   :2.040   Max.   :183591.0  "
      ]
     },
     "metadata": {},
     "output_type": "display_data"
    }
   ],
   "source": [
    "library(dplyr)\n",
    "\n",
    "a <- read.csv(\"국제수지_20221103193403.csv\", fileEncoding = 'euc-kr')\n",
    "b <- read.csv(\"국제유가_도입현황_20221103191120.csv\", fileEncoding = 'euc-kr')\n",
    "c <- read.csv(\"소비자물가지수_2020100__20221103190937.csv\", fileEncoding = 'euc-kr')\n",
    "d <- read.csv(\"수출입총괄_20221103200616.csv\", fileEncoding = 'euc-kr')\n",
    "g <- read.csv(\"한국은행 기준금리.csv\", fileEncoding = 'euc-kr')\n",
    "\n",
    "# 데이터 확인\n",
    "\n",
    "# 국제수지\n",
    "#summary(a); head(a)\n",
    "\n",
    "# 국제유가\n",
    "#summary(b); head(b)\n",
    "\n",
    "# 소비자 물가지수\n",
    "#summary(c); head(c)\n",
    "c <- c %>% rename(\"물가지수\"=\"전국\")\n",
    "\n",
    "# 수출입총괄 : 무역수지\n",
    "#summary(d); head(d); tail(d)\n",
    "d <- d %>% rename(\"무역수지\"=\"무역수지..천불.\")\n",
    "\n",
    "# 한국은행 기준금리\n",
    "#summary(g); head(g)\n",
    "g$변경월 <- substr(g$변경일자,1,2)\n",
    "g$시점 <- paste(g$변경년도,\".\",g$변경월,sep=\"\")\n",
    "g1 <- g %>% filter(변경년도 < 2022 & 변경년도 > 2017)\n",
    "#str(g1)\n",
    "g2 <- g1 %>% select(시점,기준금리)\n",
    "\n",
    "##### 민구 : 코스피, 환율, 유가, COFIX 금리, 코로나 확진자 수\n",
    "##### 윤지 : 경상수지, 상품수지, 무역수지, 물가지수, 금리\n",
    "\n",
    "# 데이터 전처리\n",
    "\n",
    "data <- a %>% filter(as.numeric(substr(시점, 1,4))<2022) %>% select(시점, 경상수지, 상품수지) \n",
    "data1 <- d %>% filter(as.numeric(substr(시점, 1,4))<2022) %>% select(시점, 무역수지) \n",
    "data2 <- c %>% filter(as.numeric(substr(시점,1,4))<2022) %>% select(시점, 물가지수)\n",
    "\n",
    "data$시점 <- as.character(data$시점)\n",
    "data1$시점 <- as.character(data1$시점)\n",
    "data2$시점 <- as.character(data2$시점)\n",
    "\n",
    "for(i in 1:length(data$시점)){\n",
    "  if(nchar(data$시점[i])==6){\n",
    "    data$시점[i] <- paste(data$시점[i],\"0\",sep=\"\")\n",
    "  }\n",
    "}\n",
    "\n",
    "for(i in 1:length(data1$시점)){\n",
    "  if(nchar(data1$시점[i])==6){\n",
    "    data1$시점[i] <- paste(data1$시점[i],\"0\",sep=\"\")\n",
    "  }\n",
    "}\n",
    "\n",
    "for(i in 1:length(data2$시점)){\n",
    "  if(nchar(data2$시점[i])==6){\n",
    "    data2$시점[i] <- paste(data2$시점[i],\"0\",sep=\"\")\n",
    "  }\n",
    "}\n",
    "\n",
    "data <- left_join(data,g2,by='시점')\n",
    "data <- left_join(data,data1,by='시점')\n",
    "data <- left_join(data,data2,by='시점')\n",
    "\n",
    "for(i in 1:length(data$시점)){\n",
    "  if(is.na(data$기준금리[i])){\n",
    "    if(i<11){data$기준금리[i] <- data$기준금리[11]}\n",
    "    else if(i<19){data$기준금리[i] <- data$기준금리[19]}\n",
    "    else if(i<22){data$기준금리[i] <- data$기준금리[22]}\n",
    "    else if(i<27){data$기준금리[i] <- data$기준금리[27]}\n",
    "    else if(i<29){data$기준금리[i] <- data$기준금리[29]}\n",
    "    else if(i<44){data$기준금리[i] <- data$기준금리[44]}\n",
    "    else if(i<47){data$기준금리[i] <- data$기준금리[47]}\n",
    "    else{data$기준금리[i] <- 1.25}\n",
    "  }\n",
    "}\n",
    "\n",
    "\n",
    "data_m <- read.csv(\"data_m.csv\",header=T, fileEncoding=\"UTF-8-BOM\")\n",
    "#summary(data_m)\n",
    "#colnames(data_m)\n",
    "data_m <- data_m %>% rename(\"시점\"=\"날짜\") %>% rename(\"유가\"=\"도입단가..US..배럴.\") %>% rename(\"COFIX금리\"=\"신규취급액기준.COFIX\")\n",
    "data_m$시점 <- as.character(data_m$시점)\n",
    "for(i in 1:length(data_m$시점)){\n",
    "  if(nchar(data_m$시점[i])==6){\n",
    "    data_m$시점[i] <- paste(data_m$시점[i],\"0\",sep=\"\")\n",
    "  }\n",
    "}\n",
    "\n",
    "data <- full_join(data,data_m,by=\"시점\")\n",
    "data <- data %>% rename(\"환율\"=\"종가\")\n",
    "head(data)\n",
    "summary(data)"
   ]
  },
  {
   "cell_type": "markdown",
   "metadata": {},
   "source": [
    "***\n",
    "\n",
    "## 💸 8가지 가정 검정  \n"
   ]
  },
  {
   "cell_type": "code",
   "execution_count": 3,
   "metadata": {
    "vscode": {
     "languageId": "r"
    }
   },
   "outputs": [
    {
     "name": "stderr",
     "output_type": "stream",
     "text": [
      "corrplot 0.92 loaded\n"
     ]
    },
    {
     "data": {
      "image/png": "[encoded data removed]",
      "text/plain": [
       "Plot with title \"\""
      ]
     },
     "metadata": {},
     "output_type": "display_data"
    }
   ],
   "source": [
    "# 독립변수 간 상관계수 계산(가정6 확인)\n",
    "data_cor <- data %>% select(-c(\"시점\",\"물가지수\"))\n",
    "data_cor <- cor(data_cor)\n",
    "#install.packages(\"corrplot\")\n",
    "library(corrplot)\n",
    "corrplot(data_cor)  "
   ]
  },
  {
   "cell_type": "markdown",
   "metadata": {},
   "source": [
    "  \n",
    "<br>  \n",
    "\n",
    "강한 양의 상관관계는 무역수지-상품수지, 경상수지-상품수지, 경상수지-무역수지, COFIX금리-기준금리에서 보였으며, 강한 음의 상관관계는 없었습니다.  \n",
    "\n",
    "다중공산성을 제거하기 위해 무역수지, 상품수지, 경상수지 중 하나만 사용하기로 결정하며, 상품수지만을 남기기로 하였습니다.  \n",
    "또한 COFIX금리와 기준금리 중 기준금리를 이용하기로 하였습니다.  \n",
    "<br>\n"
   ]
  },
  {
   "cell_type": "code",
   "execution_count": 4,
   "metadata": {
    "vscode": {
     "languageId": "r"
    }
   },
   "outputs": [],
   "source": [
    "data <- data %>% select(-c(\"무역수지\",\"경상수지\",\"COFIX금리\"))  "
   ]
  },
  {
   "cell_type": "markdown",
   "metadata": {},
   "source": [
    "***\n",
    "\n",
    "<br>\n",
    "📌 1) 가정1 : 변수 Y와 X의 관계는 선형(Linear)이다.  \n",
    "  - 잔차, scatter plot으로 확인 가능(모형 설정 후 확인)  \n",
    "  \n",
    "📌 2) 가정2 : X는 확률변수가 아닌 주어진 상수값이다.  \n",
    "  - 그냥 받아들인다.  \n",
    "  \n",
    "📌 3) 가정3 : X값이 주어져 있을 때, 오차항의 평균은 0이다.  \n",
    "  - 잔차 plot으로 확인(모형 설정 후 확인)  \n",
    "  \n",
    "📌 4) 가정4 : X값이 주어져 있을때, 오차항의 분산은 시그마^2 로 모든 개체 i에 대해 동일하다.  \n",
    "  - 잔차 plot으로 확인, 로그변환으로 해결(모형 설정 후 확인)  \n",
    "  \n",
    "📌 5) 가정5 : 서로 다른 개체간 오차항들은 상관되어있지 않다.  \n",
    "  - 오차항의 자기상관 문제(모형 설정 후 확인)  \n",
    "  - 잔차의 time plot / 잔차의 autocorrelation function / 더빗왓슨 검정 으로 확인  \n",
    "  - 시게열 가변수 추가 / 과거 독립변수값을 새로운 독립변수로 추가 / 변수변환 - 차분  \n",
    "  \n",
    "📌 6) 가정6 : X변수들이 여러 개 있을 때, X변수들 사이에는 선형관계가 없다  \n",
    "  - 다중공선성 문제가 없음을 가정  \n",
    "  - 높은 독립변수 간 상관계수 / 높은 R-square값, 그러나 유의하지 않은 t값  \n",
    "  - 상관계수가 높은 독립변수 제거  \n",
    "  \n",
    "📌 7) 가정7 : 모형 설정 오류가 없음  \n",
    "  - 그냥 받아들인다.  \n",
    "  \n",
    "📌 8) 가정8 : 오차항은 정규분포를 따름을 가정(모형 설정 후 확인)  \n",
    "  - 잔차의 Histogram과 Normal qq plot이 Plot1과 같음을 확인  \n",
    "  \n",
    "📌 가정 1,3,4,5,8는 모형 설정 후 진단한다.  \n",
    "<br>  \n",
    "\n",
    "***  \n",
    "\n",
    "## 💸 시계열 데이터로 만들기  \n"
   ]
  },
  {
   "cell_type": "code",
   "execution_count": 5,
   "metadata": {
    "vscode": {
     "languageId": "r"
    }
   },
   "outputs": [
    {
     "name": "stdout",
     "output_type": "stream",
     "text": [
      "'data.frame':\t48 obs. of  14 variables:\n",
      " $ 시점      : chr  \"2018.01\" \"2018.02\" \"2018.03\" \"2018.04\" ...\n",
      " $ 상품수지  : num  7338 4793 9216 9402 10550 ...\n",
      " $ 기준금리  : num  1.75 1.75 1.75 1.75 1.75 1.75 1.75 1.75 1.75 1.75 ...\n",
      " $ 물가지수  : num  98.1 98.9 98.8 98.9 99 ...\n",
      " $ 환율      : num  1069 1084 1060 1069 1080 ...\n",
      " $ 유가      : num  64.7 67.8 64.4 65.9 70.3 74.6 75.2 77.4 77 80 ...\n",
      " $ KOSPI     : num  2521 2439 2452 2458 2461 ...\n",
      " $ COVID     : int  0 0 0 0 0 0 0 0 0 0 ...\n",
      " $ interest  : num  1.75 1.75 1.75 1.75 1.75 1.75 1.75 1.75 1.75 1.75 ...\n",
      " $ lngoods   : num  8.9 8.47 9.13 9.15 9.26 ...\n",
      " $ priceindex: num  98.1 98.9 98.8 98.9 99 ...\n",
      " $ lnexchange: num  6.97 6.99 6.97 6.97 6.98 ...\n",
      " $ lnoil     : num  4.17 4.22 4.17 4.19 4.25 ...\n",
      " $ lnKOSPI   : num  7.83 7.8 7.8 7.81 7.81 ...\n"
     ]
    }
   ],
   "source": [
    "#################\n",
    "## 변수명 변경 ##\n",
    "#################\n",
    "data$interest <- data$기준금리\n",
    "data$lngoods <- log(data$상품수지)\n",
    "data$priceindex <- data$물가지수\n",
    "data$lnexchange <- log(data$환율)\n",
    "data$lnoil <- log(data$유가)\n",
    "data$lnKOSPI <- log(data$KOSPI)\n",
    "str(data)\n",
    "## 종속변수인 물가지수는 비율(%)이므로 로그변환을 하지 않는다.\n",
    "## 로그변환이 가능한 독립변수는 로그변환 시킨다.\n",
    "## 비율 기준 금리는 제외하고 진행한다.\n",
    "## COVID는 0을 포함하기 때문에 로그변환을 하지 않는다."
   ]
  },
  {
   "cell_type": "markdown",
   "metadata": {},
   "source": [
    "\n"
   ]
  },
  {
   "cell_type": "code",
   "execution_count": 6,
   "metadata": {
    "vscode": {
     "languageId": "r"
    }
   },
   "outputs": [
    {
     "data": {
      "image/png": "[encoded data removed]",
      "text/plain": [
       "Plot with title \"\""
      ]
     },
     "metadata": {},
     "output_type": "display_data"
    }
   ],
   "source": [
    "# 로그 변환 후 상관계수 확인\n",
    "data_cor <- data %>% select(c(\"interest\",\"lngoods\",\"priceindex\",\"lnexchange\",\"lnoil\",\"lnKOSPI\",\"COVID\"))\n",
    "data_cor <- cor(data_cor)\n",
    "corrplot(data_cor)  "
   ]
  },
  {
   "cell_type": "markdown",
   "metadata": {},
   "source": [
    "\n"
   ]
  },
  {
   "cell_type": "code",
   "execution_count": 7,
   "metadata": {
    "vscode": {
     "languageId": "r"
    }
   },
   "outputs": [
    {
     "data": {
      "image/png": "[encoded data removed]",
      "text/plain": [
       "plot without title"
      ]
     },
     "metadata": {},
     "output_type": "display_data"
    }
   ],
   "source": [
    "# 종속변수와 각 독립변수의 그래프 확인\n",
    "data_ts <- ts(data, frequency = 12, start=c(2018,1))\n",
    "par(mfrow=c(2,3))\n",
    "plot(interest~priceindex, data=data_ts)\n",
    "plot(lngoods~priceindex, data=data_ts)\n",
    "plot(lnexchange~priceindex, data=data_ts)\n",
    "plot(lnoil~priceindex, data=data_ts)\n",
    "plot(lnKOSPI~priceindex, data=data_ts)\n",
    "plot(COVID~priceindex,data=data_ts)\n",
    "par(mfrow=c(1,1))  "
   ]
  },
  {
   "cell_type": "markdown",
   "metadata": {},
   "source": [
    "\n"
   ]
  },
  {
   "cell_type": "code",
   "execution_count": 8,
   "metadata": {
    "vscode": {
     "languageId": "r"
    }
   },
   "outputs": [
    {
     "data": {
      "image/png": "[encoded data removed]",
      "text/plain": [
       "plot without title"
      ]
     },
     "metadata": {},
     "output_type": "display_data"
    }
   ],
   "source": [
    "data$time <- c(1:48) # time 변수 만들기 #\n",
    "data <- data %>% select(c(\"interest\",\"lngoods\",\"priceindex\",\"lnexchange\",\"lnoil\",\"lnKOSPI\",\"COVID\",\"time\"))\n",
    "data_ts <- ts(data, frequency = 12, start=c(2018,1))\n",
    "plot(data_ts,type=\"p\")\n",
    "# 분산이 점차 커지는 변수가 많으므로, 로그 변환하기로 결정을 내렸다."
   ]
  },
  {
   "cell_type": "markdown",
   "metadata": {},
   "source": [
    "***\n",
    "\n",
    "## 💸 기본 다중회귀 모형 테스트  \n"
   ]
  },
  {
   "cell_type": "code",
   "execution_count": 9,
   "metadata": {
    "vscode": {
     "languageId": "r"
    }
   },
   "outputs": [
    {
     "data": {
      "text/plain": [
       "\n",
       "Call:\n",
       "lm(formula = priceindex ~ interest + lngoods + lnexchange + lnoil + \n",
       "    lnKOSPI + COVID, data = data_ts)\n",
       "\n",
       "Residuals:\n",
       "     Min       1Q   Median       3Q      Max \n",
       "-0.87271 -0.25338 -0.00091  0.23791  0.91024 \n",
       "\n",
       "Coefficients:\n",
       "              Estimate Std. Error t value Pr(>|t|)    \n",
       "(Intercept) -3.681e+01  2.565e+01  -1.435  0.15877    \n",
       "interest    -8.041e-01  2.939e-01  -2.735  0.00916 ** \n",
       "lngoods      1.800e-01  1.384e-01   1.300  0.20079    \n",
       "lnexchange   1.318e+01  2.997e+00   4.398 7.58e-05 ***\n",
       "lnoil        1.023e+00  3.508e-01   2.916  0.00572 ** \n",
       "lnKOSPI      5.029e+00  7.680e-01   6.548 7.19e-08 ***\n",
       "COVID        1.477e-05  3.030e-06   4.874 1.68e-05 ***\n",
       "---\n",
       "Signif. codes:  0 '***' 0.001 '**' 0.01 '*' 0.05 '.' 0.1 ' ' 1\n",
       "\n",
       "Residual standard error: 0.4295 on 41 degrees of freedom\n",
       "Multiple R-squared:  0.9253,\tAdjusted R-squared:  0.9143 \n",
       "F-statistic: 84.62 on 6 and 41 DF,  p-value: < 2.2e-16\n"
      ]
     },
     "metadata": {},
     "output_type": "display_data"
    }
   ],
   "source": [
    "model1 <- lm(priceindex~interest+lngoods+lnexchange+lnoil+lnKOSPI+COVID, data=data_ts)\n",
    "summary(model1)\n",
    "## lngoods의 p-value가 유의하지 않으므로 제거한다.  "
   ]
  },
  {
   "cell_type": "markdown",
   "metadata": {},
   "source": [
    "\n"
   ]
  },
  {
   "cell_type": "code",
   "execution_count": 10,
   "metadata": {
    "vscode": {
     "languageId": "r"
    }
   },
   "outputs": [
    {
     "data": {
      "text/plain": [
       "\n",
       "Call:\n",
       "lm(formula = priceindex ~ interest + lnexchange + lnoil + lnKOSPI + \n",
       "    COVID, data = data_ts)\n",
       "\n",
       "Residuals:\n",
       "    Min      1Q  Median      3Q     Max \n",
       "-0.9346 -0.2470 -0.0066  0.2208  0.9752 \n",
       "\n",
       "Coefficients:\n",
       "              Estimate Std. Error t value Pr(>|t|)    \n",
       "(Intercept) -3.470e+01  2.580e+01  -1.345 0.185913    \n",
       "interest    -7.310e-01  2.909e-01  -2.513 0.015892 *  \n",
       "lnexchange   1.288e+01  3.013e+00   4.276 0.000107 ***\n",
       "lnoil        1.050e+00  3.530e-01   2.973 0.004864 ** \n",
       "lnKOSPI      5.208e+00  7.617e-01   6.838 2.48e-08 ***\n",
       "COVID        1.419e-05  3.022e-06   4.696 2.84e-05 ***\n",
       "---\n",
       "Signif. codes:  0 '***' 0.001 '**' 0.01 '*' 0.05 '.' 0.1 ' ' 1\n",
       "\n",
       "Residual standard error: 0.433 on 42 degrees of freedom\n",
       "Multiple R-squared:  0.9222,\tAdjusted R-squared:  0.9129 \n",
       "F-statistic: 99.57 on 5 and 42 DF,  p-value: < 2.2e-16\n"
      ]
     },
     "metadata": {},
     "output_type": "display_data"
    }
   ],
   "source": [
    "model2 <- lm(priceindex~interest+lnexchange+lnoil+lnKOSPI+COVID, data=data_ts)\n",
    "summary(model2)\n",
    "## 절편의 p-value가 유의하지 않으므로 제거한다.  "
   ]
  },
  {
   "cell_type": "markdown",
   "metadata": {},
   "source": [
    "\n"
   ]
  },
  {
   "cell_type": "code",
   "execution_count": 11,
   "metadata": {
    "vscode": {
     "languageId": "r"
    }
   },
   "outputs": [
    {
     "data": {
      "text/plain": [
       "\n",
       "Call:\n",
       "lm(formula = priceindex ~ interest + lnexchange + lnoil + lnKOSPI + \n",
       "    COVID - 1, data = data_ts)\n",
       "\n",
       "Residuals:\n",
       "     Min       1Q   Median       3Q      Max \n",
       "-0.97765 -0.27946  0.02837  0.22766  0.97894 \n",
       "\n",
       "Coefficients:\n",
       "             Estimate Std. Error t value Pr(>|t|)    \n",
       "interest   -1.018e+00  1.992e-01  -5.111 7.03e-06 ***\n",
       "lnexchange  8.870e+00  4.206e-01  21.091  < 2e-16 ***\n",
       "lnoil       1.204e+00  3.370e-01   3.573 0.000887 ***\n",
       "lnKOSPI     4.339e+00  4.060e-01  10.687 1.11e-13 ***\n",
       "COVID       1.667e-05  2.416e-06   6.901 1.79e-08 ***\n",
       "---\n",
       "Signif. codes:  0 '***' 0.001 '**' 0.01 '*' 0.05 '.' 0.1 ' ' 1\n",
       "\n",
       "Residual standard error: 0.4371 on 43 degrees of freedom\n",
       "Multiple R-squared:      1,\tAdjusted R-squared:      1 \n",
       "F-statistic: 5.052e+05 on 5 and 43 DF,  p-value: < 2.2e-16\n"
      ]
     },
     "metadata": {},
     "output_type": "display_data"
    }
   ],
   "source": [
    "model3 <- lm(priceindex~interest+lnexchange+lnoil+lnKOSPI+COVID-1, data=data_ts)\n",
    "summary(model3)\n",
    "## 각 독립변수는 p-value가 유의하고 모형의 R-square는 100%의 설명력을 가진다.\n",
    "## 모델에서 절편을 제거한 경우 모델은 한계점을 가졌다.  "
   ]
  },
  {
   "cell_type": "markdown",
   "metadata": {},
   "source": [
    "\n",
    "## 💸 잔차 검정(가정 3,4,5,6,8을 진단한다.)  \n",
    "\n",
    "\n",
    "📌 시계열 회귀분석에서는 아래 상황을 고려한다.  \n",
    "\n",
    "  - 가정 5번째를 반드시 체크를 해야한다.   \n",
    "  - 서로 다른 개체간 오차항들은 상관되어 있지 않다. = 자기 상관(autocorrelation)  \n",
    "  - 오차항의 자기상관 문제는 시계열 자료에서 발생한다.  \n",
    "  - 자기상관이 없을 순 없다. 그럼에도 회귀분석을 한다. 이는 x변수 자체도 시계열 변수이기 때문이다.  \n",
    "  - x,y가 상관되어 있지 않다가 아닌 \"오차항\"이 상관되어 있지 않다는 의미이다.  \n",
    "  - x자기상관, y자기상관은 상관없다. 잔차에 자기상관이 남아있으면 조치를 취해야 함.  \n",
    "\n",
    "  - y_hat residual에서 분산이 커지면 log를 취한다.  \n",
    "  \n",
    "<br>  \n",
    "\n",
    "\n",
    "📌 오차에 자기상관이 남아있을 수 있다. 확인하는 세 가지 방법은 다음과 같다.  \n",
    "  - 1) 잔차의 time plot : x축 yhat ,y축 residual로는 못 본다. x축이 time이여야 볼 수 있다.  \n",
    "  - 2) 잔차의 autocorrealtion function  \n",
    "  - 3) 더빈왓슨 검정\n"
   ]
  },
  {
   "cell_type": "code",
   "execution_count": 12,
   "metadata": {
    "vscode": {
     "languageId": "r"
    }
   },
   "outputs": [
    {
     "data": {
      "image/png": "[encoded data removed]",
      "text/plain": [
       "plot without title"
      ]
     },
     "metadata": {},
     "output_type": "display_data"
    }
   ],
   "source": [
    "## 1) 잔차의 time plot\n",
    "# 원래 잔차는 연결하면 안 된다. 원래 잔차는 행의 위치가 바껴도 상관이 없다.\n",
    "# 그러나 time data는 행 순서가 바뀔 수 없다. 시간에 흐름에 따라 순서도 자료이다.\n",
    "par(mfrow=c(1,1))\n",
    "plot(model3$residuals, type=\"l\") # both : type='b', line : type='l'\n",
    "abline(h=0, col=\"red\")\n",
    "\n",
    "# 자기상관이 없으면 랜덤하게 있어야 한다.\n",
    "# 자기 상관이 있으면 - -> -, + -> + 내려와있다가 올라와있다.\n",
    "# 자기 상관이 없다고 판단된다.  "
   ]
  },
  {
   "cell_type": "markdown",
   "metadata": {},
   "source": [
    "\n"
   ]
  },
  {
   "cell_type": "code",
   "execution_count": 13,
   "metadata": {
    "vscode": {
     "languageId": "r"
    }
   },
   "outputs": [
    {
     "name": "stderr",
     "output_type": "stream",
     "text": [
      "Warning message:\n",
      "\"package 'lmtest' was built under R version 3.6.3\"Loading required package: zoo\n",
      "\n",
      "Attaching package: 'zoo'\n",
      "\n",
      "The following objects are masked from 'package:base':\n",
      "\n",
      "    as.Date, as.Date.numeric\n",
      "\n"
     ]
    },
    {
     "data": {
      "text/plain": [
       "\n",
       "\tDurbin-Watson test\n",
       "\n",
       "data:  model3\n",
       "DW = 1.1016, p-value = 4.423e-05\n",
       "alternative hypothesis: true autocorrelation is greater than 0\n"
      ]
     },
     "metadata": {},
     "output_type": "display_data"
    },
    {
     "data": {
      "image/png": "[encoded data removed]",
      "text/plain": [
       "Plot with title \"ACF\""
      ]
     },
     "metadata": {},
     "output_type": "display_data"
    }
   ],
   "source": [
    "## 2) 잔차의 자기상관도표(ACF) : 잔차의 자기상관계수 계산\n",
    "## 특별한 패키지가 필요하지 않다.\n",
    "acf(model3$residuals, main=\"ACF\", lag.max=24)\n",
    "## 1차 상관계수, 2차 상관계수\n",
    "# 파란색 안으로 들어와 있다 = 자기상관 없다. \n",
    "# monthly 데이터에서 1년 전 데이터, 계절성이 있을 수 있다. 적어도 24까지는 봐야한다.\n",
    "# 옵션으로 계절성 확인하자.\n",
    "### but 1차 자기상관계수, 15차 자기상관계수가 유의미한게 있다.\n",
    "\n",
    "## 3) 더빈왓슨 검정\n",
    "## 1차 자기상관이 0이면 2에 가까운 값을 갖는다.\n",
    "## 1차 자기상관이 positive correlation 이면 0이고,\n",
    "## 1차 자기상관이 negative correlation 이면 4이다.\n",
    "## 2에 가까울수록 문제가 없는 것이다.\n",
    "\n",
    "## DW test ##\n",
    "#install.packages(\"lmtest\")\n",
    "library(lmtest)\n",
    "dwtest(model3)\n",
    "\n",
    "## 귀무가설 : 자기상관이 없다. d=2\n",
    "## p-value 작다. H0 기각, 자기상관이 있다.\n",
    "## 내가 바라는 건 p-value > 0.05이기 바란다.\n",
    "\n",
    "## 결과 값을 보면 4.423e-05로 <0.05, 자기상관이 있다.\n",
    "## DW만 보면 안되는 이유는 1차 자기상관만 확인가능하기 때문이다.\n",
    "## something special : 계절성 확인 어렵다.\n",
    "## 그래서 ACF까지도 같이 확인해야 한다.\n",
    "## ACF는 다 보여주는 것"
   ]
  },
  {
   "cell_type": "markdown",
   "metadata": {},
   "source": [
    "***\n",
    "\n",
    "## 💸 오차의 자기상관 해결방법  \n",
    "\n",
    "📌 1) 독립변수 추가 : 시계열 가변수 추가  \n",
    "\n",
    "  - 자기상관이 생기는 이유 : 추세, 계절성, 순환(cycle)  \n",
    "  - 1) 추세 : 증가하는 추세, 독립변수에 추세(t, t^2)를 넣어줌으로 해결(가짜변수) 한 달 지날때마다 저만큼 증가합니다.  \n",
    "  - 2) 계절을 반영하는 가변수(dummy variable)을 모형에 독립변수로 추가한다.  \n",
    "    - x: time, y:y변수 plot을 통해 계절성을 확인하자. dummy 12개 넣고 유의미하지 않은 dummy는 지운다.  \n",
    "    - 가짜변수를 많이 넣어 R square의 설명력을 높이면 prediction 예측할 때 유리  \n",
    "  - 3) 순환효과를 설명하는 삼각함수항을 추가한다.  \n",
    "    - 사인과 코사인을 같이 넣어서 주기를 맞춘다. 고정폭, 확산폭  \n",
    "    \n"
   ]
  },
  {
   "cell_type": "code",
   "execution_count": 14,
   "metadata": {
    "vscode": {
     "languageId": "r"
    }
   },
   "outputs": [
    {
     "data": {
      "image/png": "[encoded data removed]",
      "text/plain": [
       "plot without title"
      ]
     },
     "metadata": {},
     "output_type": "display_data"
    }
   ],
   "source": [
    "plot(priceindex ~ time, data=data_ts)\n",
    "# 시간에 따라 증가하는 추세가 있어보인다."
   ]
  },
  {
   "cell_type": "markdown",
   "metadata": {},
   "source": [
    "\n"
   ]
  },
  {
   "cell_type": "code",
   "execution_count": 15,
   "metadata": {
    "vscode": {
     "languageId": "r"
    }
   },
   "outputs": [
    {
     "data": {
      "text/plain": [
       "\n",
       "Call:\n",
       "lm(formula = priceindex ~ interest + lnexchange + lnoil + lnKOSPI + \n",
       "    COVID + time - 1, data = data_ts)\n",
       "\n",
       "Residuals:\n",
       "     Min       1Q   Median       3Q      Max \n",
       "-0.76433 -0.23957  0.03931  0.21630  0.93324 \n",
       "\n",
       "Coefficients:\n",
       "            Estimate Std. Error t value Pr(>|t|)    \n",
       "interest   6.480e-01  3.417e-01   1.896   0.0648 .  \n",
       "lnexchange 9.488e+00  3.444e-01  27.546  < 2e-16 ***\n",
       "lnoil      9.051e-01  2.664e-01   3.398   0.0015 ** \n",
       "lnKOSPI    3.498e+00  3.497e-01  10.001 1.12e-12 ***\n",
       "COVID      5.658e-06  2.749e-06   2.059   0.0458 *  \n",
       "time       6.733e-02  1.232e-02   5.464 2.33e-06 ***\n",
       "---\n",
       "Signif. codes:  0 '***' 0.001 '**' 0.01 '*' 0.05 '.' 0.1 ' ' 1\n",
       "\n",
       "Residual standard error: 0.3381 on 42 degrees of freedom\n",
       "Multiple R-squared:      1,\tAdjusted R-squared:      1 \n",
       "F-statistic: 7.036e+05 on 6 and 42 DF,  p-value: < 2.2e-16\n"
      ]
     },
     "metadata": {},
     "output_type": "display_data"
    }
   ],
   "source": [
    "# time 변수 추가\n",
    "model3 <- lm(priceindex~interest+lnexchange+lnoil+lnKOSPI+COVID-1, data=data_ts)\n",
    "\n",
    "modelwithtrend1 <- lm(priceindex~interest+lnexchange+lnoil+lnKOSPI+COVID+time-1, data=data_ts)\n",
    "summary(modelwithtrend1)  "
   ]
  },
  {
   "cell_type": "markdown",
   "metadata": {},
   "source": [
    "\n"
   ]
  },
  {
   "cell_type": "code",
   "execution_count": 16,
   "metadata": {
    "vscode": {
     "languageId": "r"
    }
   },
   "outputs": [
    {
     "data": {
      "text/plain": [
       "\n",
       "Call:\n",
       "lm(formula = priceindex ~ lnexchange + lnoil + lnKOSPI + COVID + \n",
       "    time - 1, data = data_ts)\n",
       "\n",
       "Residuals:\n",
       "     Min       1Q   Median       3Q      Max \n",
       "-0.60212 -0.23322  0.05505  0.20634  0.98336 \n",
       "\n",
       "Coefficients:\n",
       "            Estimate Std. Error t value Pr(>|t|)    \n",
       "lnexchange 9.306e+00  3.406e-01  27.323  < 2e-16 ***\n",
       "lnoil      1.149e+00  2.401e-01   4.785 2.04e-05 ***\n",
       "lnKOSPI    3.690e+00  3.447e-01  10.707 1.04e-13 ***\n",
       "COVID      8.619e-06  2.329e-06   3.701 0.000607 ***\n",
       "time       4.648e-02  5.724e-03   8.120 3.21e-10 ***\n",
       "---\n",
       "Signif. codes:  0 '***' 0.001 '**' 0.01 '*' 0.05 '.' 0.1 ' ' 1\n",
       "\n",
       "Residual standard error: 0.3482 on 43 degrees of freedom\n",
       "Multiple R-squared:      1,\tAdjusted R-squared:      1 \n",
       "F-statistic: 7.962e+05 on 5 and 43 DF,  p-value: < 2.2e-16\n"
      ]
     },
     "metadata": {},
     "output_type": "display_data"
    }
   ],
   "source": [
    "modelwithtrend2 <- lm(priceindex~lnexchange+lnoil+lnKOSPI+COVID+time-1, data=data_ts)\n",
    "summary(modelwithtrend2)"
   ]
  },
  {
   "cell_type": "markdown",
   "metadata": {},
   "source": [
    "\n"
   ]
  },
  {
   "cell_type": "code",
   "execution_count": 17,
   "metadata": {
    "vscode": {
     "languageId": "r"
    }
   },
   "outputs": [
    {
     "data": {
      "text/plain": [
       "\n",
       "\tDurbin-Watson test\n",
       "\n",
       "data:  model2\n",
       "DW = 1.1533, p-value = 7.109e-05\n",
       "alternative hypothesis: true autocorrelation is greater than 0\n"
      ]
     },
     "metadata": {},
     "output_type": "display_data"
    },
    {
     "data": {
      "text/plain": [
       "\n",
       "\tDurbin-Watson test\n",
       "\n",
       "data:  modelwithtrend2\n",
       "DW = 1.1701, p-value = 0.000138\n",
       "alternative hypothesis: true autocorrelation is greater than 0\n"
      ]
     },
     "metadata": {},
     "output_type": "display_data"
    },
    {
     "data": {
      "image/png": "[encoded data removed]",
      "text/plain": [
       "Plot with title \"without t\""
      ]
     },
     "metadata": {},
     "output_type": "display_data"
    }
   ],
   "source": [
    "par(mfrow=c(1,2))\n",
    "acf(modelwithtrend2$residuals,main=\"with t\")\n",
    "acf(model2$residuals, main=\"without t\")\n",
    "\n",
    "dwtest(model2) ; dwtest(modelwithtrend2)\n",
    "## dwtest 결과 time변수를 추가하여도 여전히 낮은 p-value를 취한다.\n",
    "## 따라서 time 변수는 추가하지 않는다.  "
   ]
  },
  {
   "cell_type": "markdown",
   "metadata": {},
   "source": [
    "📌 2) 독립변수의 과거값을 새로운 독립변수로 추가  \n",
    "  - 과거 x변수를 넣는다. 독립변수에 작년 것을 넣는다 => 시계열모형으로 간다.(선형회귀 area 밖)  \n",
    "  - 선형변수 가정 : x변수는 주어졌다고 생각하자를 위반  \n",
    "  - OLS를 못 쓴다. -> 시계열 모형(AR)으로 넘어감, 형태는 똑같음  \n",
    "  \n"
   ]
  },
  {
   "cell_type": "code",
   "execution_count": 18,
   "metadata": {
    "vscode": {
     "languageId": "r"
    }
   },
   "outputs": [
    {
     "data": {
      "text/plain": [
       "\n",
       "Call:\n",
       "lm(formula = priceindex ~ interest + lnexchange + lnoil + lnKOSPI + \n",
       "    COVID - 1, data = data_ts)\n",
       "\n",
       "Residuals:\n",
       "     Min       1Q   Median       3Q      Max \n",
       "-0.97765 -0.27946  0.02837  0.22766  0.97894 \n",
       "\n",
       "Coefficients:\n",
       "             Estimate Std. Error t value Pr(>|t|)    \n",
       "interest   -1.018e+00  1.992e-01  -5.111 7.03e-06 ***\n",
       "lnexchange  8.870e+00  4.206e-01  21.091  < 2e-16 ***\n",
       "lnoil       1.204e+00  3.370e-01   3.573 0.000887 ***\n",
       "lnKOSPI     4.339e+00  4.060e-01  10.687 1.11e-13 ***\n",
       "COVID       1.667e-05  2.416e-06   6.901 1.79e-08 ***\n",
       "---\n",
       "Signif. codes:  0 '***' 0.001 '**' 0.01 '*' 0.05 '.' 0.1 ' ' 1\n",
       "\n",
       "Residual standard error: 0.4371 on 43 degrees of freedom\n",
       "Multiple R-squared:      1,\tAdjusted R-squared:      1 \n",
       "F-statistic: 5.052e+05 on 5 and 43 DF,  p-value: < 2.2e-16\n"
      ]
     },
     "metadata": {},
     "output_type": "display_data"
    }
   ],
   "source": [
    "## input X_t-1 ##\n",
    "nn = dim(data_ts)[1]\n",
    "data$interest1 <- c(NA, data$interest[1:nn-1])\n",
    "data_ts <- ts(data, frequency = 12, start=c(2018,1))\n",
    "\n",
    "model3 <- lm(priceindex~interest+lnexchange+lnoil+lnKOSPI+COVID-1, data=data_ts)\n",
    "summary(model3)  "
   ]
  },
  {
   "cell_type": "markdown",
   "metadata": {},
   "source": [
    "\n"
   ]
  },
  {
   "cell_type": "code",
   "execution_count": 19,
   "metadata": {
    "vscode": {
     "languageId": "r"
    }
   },
   "outputs": [
    {
     "data": {
      "text/html": [
       "<table>\n",
       "<thead><tr><th></th><th scope=col>interest</th><th scope=col>lngoods</th><th scope=col>priceindex</th><th scope=col>lnexchange</th><th scope=col>lnoil</th><th scope=col>lnKOSPI</th><th scope=col>COVID</th><th scope=col>time</th><th scope=col>interest1</th></tr></thead>\n",
       "<tbody>\n",
       "\t<tr><th scope=row>interest</th><td> 1.0000000 </td><td> 0.38969836</td><td>-0.49141293</td><td>-0.5102393 </td><td> 0.5544974 </td><td>-0.2521452 </td><td>-0.17484184</td><td>-0.8184683 </td><td>NA         </td></tr>\n",
       "\t<tr><th scope=row>lngoods</th><td> 0.3896984 </td><td> 1.00000000</td><td>-0.03943959</td><td>-0.4535605 </td><td> 0.3229071 </td><td> 0.1881598 </td><td>-0.07245593</td><td>-0.1904409 </td><td>NA         </td></tr>\n",
       "\t<tr><th scope=row>priceindex</th><td>-0.4914129 </td><td>-0.03943959</td><td> 1.00000000</td><td> 0.2477552 </td><td> 0.2017965 </td><td> 0.7560660 </td><td> 0.78413359</td><td> 0.8718920 </td><td>NA         </td></tr>\n",
       "\t<tr><th scope=row>lnexchange</th><td>-0.5102393 </td><td>-0.45356051</td><td> 0.24775519</td><td> 1.0000000 </td><td>-0.2733702 </td><td>-0.3418975 </td><td> 0.17956309</td><td> 0.4323926 </td><td>NA         </td></tr>\n",
       "\t<tr><th scope=row>lnoil</th><td> 0.5544974 </td><td> 0.32290706</td><td> 0.20179654</td><td>-0.2733702 </td><td> 1.0000000 </td><td> 0.2468971 </td><td> 0.25470521</td><td>-0.2034728 </td><td>NA         </td></tr>\n",
       "\t<tr><th scope=row>lnKOSPI</th><td>-0.2521452 </td><td> 0.18815981</td><td> 0.75606600</td><td>-0.3418975 </td><td> 0.2468971 </td><td> 1.0000000 </td><td> 0.55578175</td><td> 0.5972433 </td><td>NA         </td></tr>\n",
       "\t<tr><th scope=row>COVID</th><td>-0.1748418 </td><td>-0.07245593</td><td> 0.78413359</td><td> 0.1795631 </td><td> 0.2547052 </td><td> 0.5557818 </td><td> 1.00000000</td><td> 0.6013824 </td><td>NA         </td></tr>\n",
       "\t<tr><th scope=row>time</th><td>-0.8184683 </td><td>-0.19044090</td><td> 0.87189197</td><td> 0.4323926 </td><td>-0.2034728 </td><td> 0.5972433 </td><td> 0.60138236</td><td> 1.0000000 </td><td>NA         </td></tr>\n",
       "\t<tr><th scope=row>interest1</th><td>        NA </td><td>         NA</td><td>         NA</td><td>        NA </td><td>        NA </td><td>        NA </td><td>         NA</td><td>        NA </td><td> 1         </td></tr>\n",
       "</tbody>\n",
       "</table>\n"
      ],
      "text/latex": [
       "\\begin{tabular}{r|lllllllll}\n",
       "  & interest & lngoods & priceindex & lnexchange & lnoil & lnKOSPI & COVID & time & interest1\\\\\n",
       "\\hline\n",
       "\tinterest &  1.0000000  &  0.38969836 & -0.49141293 & -0.5102393  &  0.5544974  & -0.2521452  & -0.17484184 & -0.8184683  & NA         \\\\\n",
       "\tlngoods &  0.3896984  &  1.00000000 & -0.03943959 & -0.4535605  &  0.3229071  &  0.1881598  & -0.07245593 & -0.1904409  & NA         \\\\\n",
       "\tpriceindex & -0.4914129  & -0.03943959 &  1.00000000 &  0.2477552  &  0.2017965  &  0.7560660  &  0.78413359 &  0.8718920  & NA         \\\\\n",
       "\tlnexchange & -0.5102393  & -0.45356051 &  0.24775519 &  1.0000000  & -0.2733702  & -0.3418975  &  0.17956309 &  0.4323926  & NA         \\\\\n",
       "\tlnoil &  0.5544974  &  0.32290706 &  0.20179654 & -0.2733702  &  1.0000000  &  0.2468971  &  0.25470521 & -0.2034728  & NA         \\\\\n",
       "\tlnKOSPI & -0.2521452  &  0.18815981 &  0.75606600 & -0.3418975  &  0.2468971  &  1.0000000  &  0.55578175 &  0.5972433  & NA         \\\\\n",
       "\tCOVID & -0.1748418  & -0.07245593 &  0.78413359 &  0.1795631  &  0.2547052  &  0.5557818  &  1.00000000 &  0.6013824  & NA         \\\\\n",
       "\ttime & -0.8184683  & -0.19044090 &  0.87189197 &  0.4323926  & -0.2034728  &  0.5972433  &  0.60138236 &  1.0000000  & NA         \\\\\n",
       "\tinterest1 &         NA  &          NA &          NA &         NA  &         NA  &         NA  &          NA &         NA  &  1         \\\\\n",
       "\\end{tabular}\n"
      ],
      "text/markdown": [
       "\n",
       "| <!--/--> | interest | lngoods | priceindex | lnexchange | lnoil | lnKOSPI | COVID | time | interest1 |\n",
       "|---|---|---|---|---|---|---|---|---|---|\n",
       "| interest |  1.0000000  |  0.38969836 | -0.49141293 | -0.5102393  |  0.5544974  | -0.2521452  | -0.17484184 | -0.8184683  | NA          |\n",
       "| lngoods |  0.3896984  |  1.00000000 | -0.03943959 | -0.4535605  |  0.3229071  |  0.1881598  | -0.07245593 | -0.1904409  | NA          |\n",
       "| priceindex | -0.4914129  | -0.03943959 |  1.00000000 |  0.2477552  |  0.2017965  |  0.7560660  |  0.78413359 |  0.8718920  | NA          |\n",
       "| lnexchange | -0.5102393  | -0.45356051 |  0.24775519 |  1.0000000  | -0.2733702  | -0.3418975  |  0.17956309 |  0.4323926  | NA          |\n",
       "| lnoil |  0.5544974  |  0.32290706 |  0.20179654 | -0.2733702  |  1.0000000  |  0.2468971  |  0.25470521 | -0.2034728  | NA          |\n",
       "| lnKOSPI | -0.2521452  |  0.18815981 |  0.75606600 | -0.3418975  |  0.2468971  |  1.0000000  |  0.55578175 |  0.5972433  | NA          |\n",
       "| COVID | -0.1748418  | -0.07245593 |  0.78413359 |  0.1795631  |  0.2547052  |  0.5557818  |  1.00000000 |  0.6013824  | NA          |\n",
       "| time | -0.8184683  | -0.19044090 |  0.87189197 |  0.4323926  | -0.2034728  |  0.5972433  |  0.60138236 |  1.0000000  | NA          |\n",
       "| interest1 |         NA  |          NA |          NA |         NA  |         NA  |         NA  |          NA |         NA  |  1          |\n",
       "\n"
      ],
      "text/plain": [
       "           interest   lngoods     priceindex  lnexchange lnoil      lnKOSPI   \n",
       "interest    1.0000000  0.38969836 -0.49141293 -0.5102393  0.5544974 -0.2521452\n",
       "lngoods     0.3896984  1.00000000 -0.03943959 -0.4535605  0.3229071  0.1881598\n",
       "priceindex -0.4914129 -0.03943959  1.00000000  0.2477552  0.2017965  0.7560660\n",
       "lnexchange -0.5102393 -0.45356051  0.24775519  1.0000000 -0.2733702 -0.3418975\n",
       "lnoil       0.5544974  0.32290706  0.20179654 -0.2733702  1.0000000  0.2468971\n",
       "lnKOSPI    -0.2521452  0.18815981  0.75606600 -0.3418975  0.2468971  1.0000000\n",
       "COVID      -0.1748418 -0.07245593  0.78413359  0.1795631  0.2547052  0.5557818\n",
       "time       -0.8184683 -0.19044090  0.87189197  0.4323926 -0.2034728  0.5972433\n",
       "interest1          NA          NA          NA         NA         NA         NA\n",
       "           COVID       time       interest1\n",
       "interest   -0.17484184 -0.8184683 NA       \n",
       "lngoods    -0.07245593 -0.1904409 NA       \n",
       "priceindex  0.78413359  0.8718920 NA       \n",
       "lnexchange  0.17956309  0.4323926 NA       \n",
       "lnoil       0.25470521 -0.2034728 NA       \n",
       "lnKOSPI     0.55578175  0.5972433 NA       \n",
       "COVID       1.00000000  0.6013824 NA       \n",
       "time        0.60138236  1.0000000 NA       \n",
       "interest1           NA         NA  1       "
      ]
     },
     "metadata": {},
     "output_type": "display_data"
    },
    {
     "data": {
      "image/png": "[encoded data removed]",
      "text/plain": [
       "Plot with title \"Series  model3$residuals\""
      ]
     },
     "metadata": {},
     "output_type": "display_data"
    }
   ],
   "source": [
    "cor(data_ts)\n",
    "acf(model3$residuals)\n",
    "model3 <- lm(priceindex~interest+lnexchange+lnoil+lnKOSPI+COVID-1, data=data_ts)  "
   ]
  },
  {
   "cell_type": "markdown",
   "metadata": {},
   "source": [
    "\n"
   ]
  },
  {
   "cell_type": "code",
   "execution_count": 20,
   "metadata": {
    "vscode": {
     "languageId": "r"
    }
   },
   "outputs": [
    {
     "data": {
      "text/plain": [
       "\n",
       "Call:\n",
       "lm(formula = priceindex ~ interest + interest + lnexchange + \n",
       "    lnoil + lnKOSPI + COVID - 1, data = data_ts)\n",
       "\n",
       "Residuals:\n",
       "     Min       1Q   Median       3Q      Max \n",
       "-0.97765 -0.27946  0.02837  0.22766  0.97894 \n",
       "\n",
       "Coefficients:\n",
       "             Estimate Std. Error t value Pr(>|t|)    \n",
       "interest   -1.018e+00  1.992e-01  -5.111 7.03e-06 ***\n",
       "lnexchange  8.870e+00  4.206e-01  21.091  < 2e-16 ***\n",
       "lnoil       1.204e+00  3.370e-01   3.573 0.000887 ***\n",
       "lnKOSPI     4.339e+00  4.060e-01  10.687 1.11e-13 ***\n",
       "COVID       1.667e-05  2.416e-06   6.901 1.79e-08 ***\n",
       "---\n",
       "Signif. codes:  0 '***' 0.001 '**' 0.01 '*' 0.05 '.' 0.1 ' ' 1\n",
       "\n",
       "Residual standard error: 0.4371 on 43 degrees of freedom\n",
       "Multiple R-squared:      1,\tAdjusted R-squared:      1 \n",
       "F-statistic: 5.052e+05 on 5 and 43 DF,  p-value: < 2.2e-16\n"
      ]
     },
     "metadata": {},
     "output_type": "display_data"
    },
    {
     "data": {
      "text/plain": [
       "\n",
       "\tDurbin-Watson test\n",
       "\n",
       "data:  modelwithinterest\n",
       "DW = 1.1016, p-value = 4.423e-05\n",
       "alternative hypothesis: true autocorrelation is greater than 0\n"
      ]
     },
     "metadata": {},
     "output_type": "display_data"
    },
    {
     "data": {
      "image/png": "[encoded data removed]",
      "text/plain": [
       "Plot with title \"Series  modelwithinterest$residuals\""
      ]
     },
     "metadata": {},
     "output_type": "display_data"
    }
   ],
   "source": [
    "modelwithinterest<- lm(priceindex~interest+interest+lnexchange+lnoil+lnKOSPI+COVID-1, data=data_ts)\n",
    "summary(modelwithinterest)\n",
    "acf(modelwithinterest$residuals)\n",
    "dwtest(modelwithinterest)\n",
    "## 유의미하지 않은 변수 추가로 더 나빠짐. 해결 안 된다.  "
   ]
  },
  {
   "cell_type": "markdown",
   "metadata": {},
   "source": [
    "\n"
   ]
  },
  {
   "cell_type": "code",
   "execution_count": 21,
   "metadata": {
    "vscode": {
     "languageId": "r"
    }
   },
   "outputs": [
    {
     "data": {
      "text/plain": [
       "\n",
       "Call:\n",
       "lm(formula = priceindex ~ interest + lnexchange + lnoil + lnKOSPI + \n",
       "    COVID1 - 1, data = data)\n",
       "\n",
       "Residuals:\n",
       "     Min       1Q   Median       3Q      Max \n",
       "-0.70333 -0.19866 -0.03687  0.19893  0.89431 \n",
       "\n",
       "Coefficients:\n",
       "             Estimate Std. Error t value Pr(>|t|)    \n",
       "interest   -6.709e-01  1.809e-01  -3.708  0.00062 ***\n",
       "lnexchange  9.218e+00  3.818e-01  24.144  < 2e-16 ***\n",
       "lnoil       9.282e-01  2.878e-01   3.225  0.00247 ** \n",
       "lnKOSPI     4.110e+00  3.652e-01  11.254 4.10e-14 ***\n",
       "COVID1      4.050e-05  4.623e-06   8.761 6.13e-11 ***\n",
       "---\n",
       "Signif. codes:  0 '***' 0.001 '**' 0.01 '*' 0.05 '.' 0.1 ' ' 1\n",
       "\n",
       "Residual standard error: 0.3643 on 41 degrees of freedom\n",
       "  (2 observations deleted due to missingness)\n",
       "Multiple R-squared:      1,\tAdjusted R-squared:      1 \n",
       "F-statistic: 6.983e+05 on 5 and 41 DF,  p-value: < 2.2e-16\n"
      ]
     },
     "metadata": {},
     "output_type": "display_data"
    },
    {
     "data": {
      "text/plain": [
       "\n",
       "\tDurbin-Watson test\n",
       "\n",
       "data:  modelwithCOVID1\n",
       "DW = 1.3517, p-value = 0.001872\n",
       "alternative hypothesis: true autocorrelation is greater than 0\n"
      ]
     },
     "metadata": {},
     "output_type": "display_data"
    },
    {
     "data": {
      "image/png": "[encoded data removed]",
      "text/plain": [
       "Plot with title \"Series  modelwithCOVID1$residuals\""
      ]
     },
     "metadata": {},
     "output_type": "display_data"
    }
   ],
   "source": [
    "### 각각의 변수의 과거값을 사용한다. \n",
    "### 과거값을 포함한 새로운 변수를 추가해본다.\n",
    "## input X_t-2 ##\n",
    "data$COVID1 <- c(NA,NA, data$COVID[1:46])\n",
    "modelwithCOVID1<- lm(priceindex~interest+lnexchange+lnoil+lnKOSPI+COVID1-1, data=data)\n",
    "summary(modelwithCOVID1)\n",
    "acf(modelwithCOVID1$residuals, lag.max = 24)\n",
    "dwtest(modelwithCOVID1)  "
   ]
  },
  {
   "cell_type": "markdown",
   "metadata": {},
   "source": [
    "\n"
   ]
  },
  {
   "cell_type": "code",
   "execution_count": 22,
   "metadata": {
    "vscode": {
     "languageId": "r"
    }
   },
   "outputs": [
    {
     "data": {
      "text/plain": [
       "\n",
       "Call:\n",
       "lm(formula = priceindex ~ interest1 + lnexchange + lnoil + lnKOSPI + \n",
       "    COVID1 - 1, data = data)\n",
       "\n",
       "Residuals:\n",
       "     Min       1Q   Median       3Q      Max \n",
       "-0.75706 -0.22358  0.01602  0.18538  0.83151 \n",
       "\n",
       "Coefficients:\n",
       "             Estimate Std. Error t value Pr(>|t|)    \n",
       "interest1  -7.285e-01  2.053e-01  -3.548  0.00101 ** \n",
       "lnexchange  9.360e+00  3.911e-01  23.935  < 2e-16 ***\n",
       "lnoil       1.035e+00  3.130e-01   3.306  0.00201 ** \n",
       "lnKOSPI     3.943e+00  3.906e-01  10.097 1.46e-12 ***\n",
       "COVID1      3.610e-05  5.071e-06   7.119 1.28e-08 ***\n",
       "---\n",
       "Signif. codes:  0 '***' 0.001 '**' 0.01 '*' 0.05 '.' 0.1 ' ' 1\n",
       "\n",
       "Residual standard error: 0.3625 on 40 degrees of freedom\n",
       "  (3 observations deleted due to missingness)\n",
       "Multiple R-squared:      1,\tAdjusted R-squared:      1 \n",
       "F-statistic: 6.9e+05 on 5 and 40 DF,  p-value: < 2.2e-16\n"
      ]
     },
     "metadata": {},
     "output_type": "display_data"
    },
    {
     "data": {
      "text/plain": [
       "\n",
       "\tDurbin-Watson test\n",
       "\n",
       "data:  modelwithinterest1\n",
       "DW = 1.393, p-value = 0.003613\n",
       "alternative hypothesis: true autocorrelation is greater than 0\n"
      ]
     },
     "metadata": {},
     "output_type": "display_data"
    },
    {
     "data": {
      "image/png": "[encoded data removed]",
      "text/plain": [
       "Plot with title \"Series  modelwithinterest1$residuals\""
      ]
     },
     "metadata": {},
     "output_type": "display_data"
    }
   ],
   "source": [
    "## input X_t-3 ##\n",
    "data$interest1 <- c(NA,NA,NA, data$interest[1:45])\n",
    "modelwithinterest1<- lm(priceindex~interest1+lnexchange+lnoil+lnKOSPI+COVID1-1, data=data)\n",
    "summary(modelwithinterest1)\n",
    "acf(modelwithinterest1$residuals, lag.max = 24)\n",
    "dwtest(modelwithinterest1)  "
   ]
  },
  {
   "cell_type": "markdown",
   "metadata": {},
   "source": [
    "\n"
   ]
  },
  {
   "cell_type": "code",
   "execution_count": 23,
   "metadata": {
    "vscode": {
     "languageId": "r"
    }
   },
   "outputs": [
    {
     "data": {
      "text/plain": [
       "\n",
       "Call:\n",
       "lm(formula = priceindex ~ interest + lnexchange1 + lnoil + lnKOSPI + \n",
       "    COVID1 - 1, data = data)\n",
       "\n",
       "Residuals:\n",
       "     Min       1Q   Median       3Q      Max \n",
       "-0.74486 -0.14091 -0.03237  0.12640  0.90474 \n",
       "\n",
       "Coefficients:\n",
       "              Estimate Std. Error t value Pr(>|t|)    \n",
       "interest    -7.102e-01  1.672e-01  -4.247 0.000121 ***\n",
       "lnexchange1  9.210e+00  3.508e-01  26.256  < 2e-16 ***\n",
       "lnoil        1.141e+00  2.657e-01   4.293 0.000105 ***\n",
       "lnKOSPI      4.014e+00  3.395e-01  11.822 8.66e-15 ***\n",
       "COVID1       4.105e-05  4.278e-06   9.597 4.84e-12 ***\n",
       "---\n",
       "Signif. codes:  0 '***' 0.001 '**' 0.01 '*' 0.05 '.' 0.1 ' ' 1\n",
       "\n",
       "Residual standard error: 0.3367 on 41 degrees of freedom\n",
       "  (2 observations deleted due to missingness)\n",
       "Multiple R-squared:      1,\tAdjusted R-squared:      1 \n",
       "F-statistic: 8.174e+05 on 5 and 41 DF,  p-value: < 2.2e-16\n"
      ]
     },
     "metadata": {},
     "output_type": "display_data"
    },
    {
     "data": {
      "text/plain": [
       "\n",
       "\tDurbin-Watson test\n",
       "\n",
       "data:  modelwithlnexchange1\n",
       "DW = 1.3996, p-value = 0.003275\n",
       "alternative hypothesis: true autocorrelation is greater than 0\n"
      ]
     },
     "metadata": {},
     "output_type": "display_data"
    },
    {
     "data": {
      "image/png": "[encoded data removed]",
      "text/plain": [
       "Plot with title \"Series  modelwithlnexchange1$residuals\""
      ]
     },
     "metadata": {},
     "output_type": "display_data"
    }
   ],
   "source": [
    "## input X_t-1 ##\n",
    "data$lnexchange1 <- c(NA, data$lnexchange[1:47])\n",
    "modelwithlnexchange1<- lm(priceindex~interest+lnexchange1+lnoil+lnKOSPI+COVID1-1, data=data)\n",
    "summary(modelwithlnexchange1)\n",
    "acf(modelwithlnexchange1$residuals, lag.max = 24)\n",
    "dwtest(modelwithlnexchange1)  "
   ]
  },
  {
   "cell_type": "markdown",
   "metadata": {},
   "source": [
    "\n"
   ]
  },
  {
   "cell_type": "code",
   "execution_count": 24,
   "metadata": {
    "vscode": {
     "languageId": "r"
    }
   },
   "outputs": [
    {
     "data": {
      "text/plain": [
       "\n",
       "Call:\n",
       "lm(formula = priceindex ~ interest + lnoil + lnKOSPI1 + COVID1 - \n",
       "    1, data = data)\n",
       "\n",
       "Residuals:\n",
       "    Min      1Q  Median      3Q     Max \n",
       "-2.0446 -0.7627  0.3281  0.8833  2.4086 \n",
       "\n",
       "Coefficients:\n",
       "           Estimate Std. Error t value Pr(>|t|)    \n",
       "interest -0.6907538  0.6221270  -1.110   0.2732    \n",
       "lnoil    -0.8016755  1.0619117  -0.755   0.4545    \n",
       "lnKOSPI1 13.4497247  0.5012573  26.832   <2e-16 ***\n",
       "COVID1   -0.0000244  0.0000134  -1.820   0.0759 .  \n",
       "---\n",
       "Signif. codes:  0 '***' 0.001 '**' 0.01 '*' 0.05 '.' 0.1 ' ' 1\n",
       "\n",
       "Residual standard error: 1.257 on 42 degrees of freedom\n",
       "  (2 observations deleted due to missingness)\n",
       "Multiple R-squared:  0.9999,\tAdjusted R-squared:  0.9998 \n",
       "F-statistic: 7.333e+04 on 4 and 42 DF,  p-value: < 2.2e-16\n"
      ]
     },
     "metadata": {},
     "output_type": "display_data"
    },
    {
     "data": {
      "text/plain": [
       "\n",
       "\tDurbin-Watson test\n",
       "\n",
       "data:  modelwithlnKOSPI1\n",
       "DW = 0.38363, p-value = 1.751e-14\n",
       "alternative hypothesis: true autocorrelation is greater than 0\n"
      ]
     },
     "metadata": {},
     "output_type": "display_data"
    },
    {
     "data": {
      "image/png": "[encoded data removed]",
      "text/plain": [
       "Plot with title \"Series  modelwithlnKOSPI1$residuals\""
      ]
     },
     "metadata": {},
     "output_type": "display_data"
    }
   ],
   "source": [
    "## input X_t-1 ##\n",
    "data$lnKOSPI1 <- c(NA,NA, data$lnKOSPI[1:46])\n",
    "modelwithlnKOSPI1<- lm(priceindex~interest+lnoil+lnKOSPI1+COVID1-1, data=data)\n",
    "summary(modelwithlnKOSPI1)\n",
    "acf(modelwithlnKOSPI1$residuals, lag.max = 24)\n",
    "dwtest(modelwithlnKOSPI1)  "
   ]
  },
  {
   "cell_type": "markdown",
   "metadata": {},
   "source": [
    "📌 3) 변수변환 - 차분(차분은 거의 해결해 준다.)  \n",
    "  - 변환 후 차분  \n",
    "  \n"
   ]
  },
  {
   "cell_type": "code",
   "execution_count": 25,
   "metadata": {
    "vscode": {
     "languageId": "r"
    }
   },
   "outputs": [],
   "source": [
    "ynew <- diff(data$priceindex, difference=1)\n",
    "interest_new <- diff(data$interest, difference = 1)\n",
    "lngoods_new <- diff(data$lngoods, difference = 1)\n",
    "lnexchange_new <- diff(data$lnexchange, difference = 1)\n",
    "lnoil_new <- diff(data$lnoil, difference = 1)\n",
    "lnKOSPI_new <- diff(data$lnKOSPI, difference = 1)\n",
    "COVID_new <- diff(data$COVID, difference = 1)\n",
    "\n",
    "diff_data <- data.frame(ynew, interest_new, lngoods_new, lnexchange_new, lnoil_new, lnKOSPI_new, COVID_new)  "
   ]
  },
  {
   "cell_type": "markdown",
   "metadata": {},
   "source": [
    "\n"
   ]
  },
  {
   "cell_type": "code",
   "execution_count": 26,
   "metadata": {
    "vscode": {
     "languageId": "r"
    }
   },
   "outputs": [
    {
     "data": {
      "text/plain": [
       "\n",
       "Call:\n",
       "lm(formula = ynew ~ interest_new + lngoods_new + lnexchange_new + \n",
       "    lnoil_new + lnKOSPI_new + COVID_new, data = diff_data)\n",
       "\n",
       "Residuals:\n",
       "     Min       1Q   Median       3Q      Max \n",
       "-0.68079 -0.17164 -0.00052  0.17654  0.71711 \n",
       "\n",
       "Coefficients:\n",
       "                 Estimate Std. Error t value Pr(>|t|)  \n",
       "(Intercept)     1.197e-01  5.150e-02   2.324   0.0253 *\n",
       "interest_new    9.341e-01  5.041e-01   1.853   0.0713 .\n",
       "lngoods_new    -8.240e-03  8.849e-02  -0.093   0.9263  \n",
       "lnexchange_new  4.439e+00  2.906e+00   1.527   0.1346  \n",
       "lnoil_new       7.964e-01  4.232e-01   1.882   0.0672 .\n",
       "lnKOSPI_new     1.779e+00  1.030e+00   1.726   0.0921 .\n",
       "COVID_new      -9.970e-07  3.314e-06  -0.301   0.7651  \n",
       "---\n",
       "Signif. codes:  0 '***' 0.001 '**' 0.01 '*' 0.05 '.' 0.1 ' ' 1\n",
       "\n",
       "Residual standard error: 0.3315 on 40 degrees of freedom\n",
       "Multiple R-squared:  0.291,\tAdjusted R-squared:  0.1846 \n",
       "F-statistic: 2.736 on 6 and 40 DF,  p-value: 0.02537\n"
      ]
     },
     "metadata": {},
     "output_type": "display_data"
    },
    {
     "data": {
      "image/png": "[encoded data removed]",
      "text/plain": [
       "Plot with title \"Series  model11$residuals\""
      ]
     },
     "metadata": {},
     "output_type": "display_data"
    }
   ],
   "source": [
    "## model 11 : 차분한 모든 변수를 다 넣어본다 ##\n",
    "model11 <- lm(ynew~interest_new+lngoods_new+lnexchange_new+lnoil_new+lnKOSPI_new+COVID_new, data=diff_data)\n",
    "summary(model11)\n",
    "par(mfrow = c(1,2))\n",
    "acf(model1$residuals)\n",
    "acf(model11$residuals)  "
   ]
  },
  {
   "cell_type": "markdown",
   "metadata": {},
   "source": [
    "\n"
   ]
  },
  {
   "cell_type": "code",
   "execution_count": 27,
   "metadata": {
    "vscode": {
     "languageId": "r"
    }
   },
   "outputs": [
    {
     "name": "stdout",
     "output_type": "stream",
     "text": [
      "Start:  AIC=-97.38\n",
      "ynew ~ interest_new + lngoods_new + lnexchange_new + lnoil_new + \n",
      "    lnKOSPI_new + COVID_new\n",
      "\n",
      "                 Df Sum of Sq    RSS     AIC\n",
      "- lngoods_new     1   0.00095 4.3955 -99.370\n",
      "- COVID_new       1   0.00994 4.4045 -99.274\n",
      "<none>                        4.3946 -97.380\n",
      "- lnexchange_new  1   0.25627 4.6508 -96.716\n",
      "- lnKOSPI_new     1   0.32727 4.7218 -96.004\n",
      "- interest_new    1   0.37725 4.7718 -95.509\n",
      "- lnoil_new       1   0.38901 4.7836 -95.393\n",
      "\n",
      "Step:  AIC=-99.37\n",
      "ynew ~ interest_new + lnexchange_new + lnoil_new + lnKOSPI_new + \n",
      "    COVID_new\n",
      "\n",
      "                 Df Sum of Sq    RSS      AIC\n",
      "- COVID_new       1   0.00925 4.4048 -101.271\n",
      "<none>                        4.3955  -99.370\n",
      "- lnexchange_new  1   0.26580 4.6613  -98.610\n",
      "- lnKOSPI_new     1   0.32981 4.7253  -97.969\n",
      "- lnoil_new       1   0.38810 4.7836  -97.393\n",
      "- interest_new    1   0.41240 4.8079  -97.155\n",
      "\n",
      "Step:  AIC=-101.27\n",
      "ynew ~ interest_new + lnexchange_new + lnoil_new + lnKOSPI_new\n",
      "\n",
      "                 Df Sum of Sq    RSS      AIC\n",
      "<none>                        4.4048 -101.271\n",
      "- lnexchange_new  1   0.26215 4.6669 -100.554\n",
      "- lnKOSPI_new     1   0.32924 4.7340  -99.883\n",
      "- lnoil_new       1   0.39815 4.8029  -99.204\n",
      "- interest_new    1   0.42447 4.8292  -98.947\n"
     ]
    },
    {
     "data": {
      "text/plain": [
       "\n",
       "Call:\n",
       "lm(formula = ynew ~ interest_new + lnexchange_new + lnoil_new + \n",
       "    lnKOSPI_new, data = diff_data)\n",
       "\n",
       "Coefficients:\n",
       "   (Intercept)    interest_new  lnexchange_new       lnoil_new     lnKOSPI_new  \n",
       "        0.1151          0.8684          4.4419          0.8023          1.7817  \n"
      ]
     },
     "metadata": {},
     "output_type": "display_data"
    },
    {
     "data": {
      "text/plain": [
       "\n",
       "Call:\n",
       "lm(formula = ynew ~ interest_new + lnexchange_new + lnoil_new + \n",
       "    lnKOSPI_new, data = diff_data)\n",
       "\n",
       "Residuals:\n",
       "     Min       1Q   Median       3Q      Max \n",
       "-0.67323 -0.18256 -0.00794  0.18264  0.72130 \n",
       "\n",
       "Coefficients:\n",
       "               Estimate Std. Error t value Pr(>|t|)  \n",
       "(Intercept)     0.11512    0.04815   2.391   0.0214 *\n",
       "interest_new    0.86838    0.43164   2.012   0.0507 .\n",
       "lnexchange_new  4.44191    2.80952   1.581   0.1214  \n",
       "lnoil_new       0.80233    0.41178   1.948   0.0581 .\n",
       "lnKOSPI_new     1.78170    1.00557   1.772   0.0837 .\n",
       "---\n",
       "Signif. codes:  0 '***' 0.001 '**' 0.01 '*' 0.05 '.' 0.1 ' ' 1\n",
       "\n",
       "Residual standard error: 0.3238 on 42 degrees of freedom\n",
       "Multiple R-squared:  0.2893,\tAdjusted R-squared:  0.2216 \n",
       "F-statistic: 4.274 on 4 and 42 DF,  p-value: 0.005434\n"
      ]
     },
     "metadata": {},
     "output_type": "display_data"
    },
    {
     "data": {
      "image/png": "[encoded data removed]",
      "text/plain": [
       "Plot with title \"Series  model12$residuals\""
      ]
     },
     "metadata": {},
     "output_type": "display_data"
    }
   ],
   "source": [
    "# stepwise \n",
    "step(lm(ynew~interest_new+lngoods_new+lnexchange_new+lnoil_new+lnKOSPI_new+COVID_new, data=diff_data),\n",
    "     scope = list(lower ~ 1, upper = ~interest_new+lngoods_new+lnexchange_new+lnoil_new+lnKOSPI_new+COVID_new), direction = \"backward\")\n",
    "## model 12 : stepwise 한 모델\n",
    "model12 <- lm(formula = ynew ~ interest_new + lnexchange_new + lnoil_new + lnKOSPI_new, data = diff_data)\n",
    "summary(model12)\n",
    "# 유의한 변수는 없고 절편만이 유의한 모형을 제시하였다.\n",
    "par(mfrow = c(1,1))\n",
    "acf(model12$residuals, lag.max = 24)  "
   ]
  },
  {
   "cell_type": "markdown",
   "metadata": {},
   "source": [
    "\n"
   ]
  },
  {
   "cell_type": "code",
   "execution_count": 28,
   "metadata": {
    "vscode": {
     "languageId": "r"
    }
   },
   "outputs": [
    {
     "data": {
      "text/plain": [
       "\n",
       "Call:\n",
       "lm(formula = ynew ~ interest_new + lnexchange_new + lnoil_new + \n",
       "    lnKOSPI_new + COVID_new - 1, data = diff_data)\n",
       "\n",
       "Residuals:\n",
       "     Min       1Q   Median       3Q      Max \n",
       "-0.53349 -0.06351  0.09125  0.30887  0.83241 \n",
       "\n",
       "Coefficients:\n",
       "                Estimate Std. Error t value Pr(>|t|)  \n",
       "interest_new   7.089e-01  4.837e-01   1.465   0.1502  \n",
       "lnexchange_new 5.290e+00  2.970e+00   1.781   0.0822 .\n",
       "lnoil_new      8.584e-01  4.383e-01   1.959   0.0568 .\n",
       "lnKOSPI_new    2.017e+00  1.065e+00   1.894   0.0651 .\n",
       "COVID_new      1.195e-06  3.269e-06   0.366   0.7166  \n",
       "---\n",
       "Signif. codes:  0 '***' 0.001 '**' 0.01 '*' 0.05 '.' 0.1 ' ' 1\n",
       "\n",
       "Residual standard error: 0.3446 on 42 degrees of freedom\n",
       "Multiple R-squared:  0.2819,\tAdjusted R-squared:  0.1965 \n",
       "F-statistic: 3.298 on 5 and 42 DF,  p-value: 0.01333\n"
      ]
     },
     "metadata": {},
     "output_type": "display_data"
    },
    {
     "data": {
      "text/plain": [
       "\n",
       "\tDurbin-Watson test\n",
       "\n",
       "data:  model13\n",
       "DW = 1.6155, p-value = 0.08822\n",
       "alternative hypothesis: true autocorrelation is greater than 0\n"
      ]
     },
     "metadata": {},
     "output_type": "display_data"
    },
    {
     "data": {
      "image/png": "[encoded data removed]",
      "text/plain": [
       "Plot with title \"Series  model13$residuals\""
      ]
     },
     "metadata": {},
     "output_type": "display_data"
    }
   ],
   "source": [
    "## lngoods 변수는 물가지수와의 상관계수가 0에 가깝고, 거의 모든 모형에서 유의하지 않음을 확인하였으므로 모형에 되도록 넣지 않기로 결정한다.###\n",
    "\n",
    "## model3 vs. 차분한 모형\n",
    "model3 <- lm(priceindex~interest+lnexchange+lnoil+lnKOSPI+COVID-1, data=data_ts)\n",
    "model13 <- lm(ynew ~ interest_new + lnexchange_new + lnoil_new + lnKOSPI_new + COVID_new - 1, data = diff_data)\n",
    "summary(model13)\n",
    "par(mfrow = c(1,2))\n",
    "acf(model3$residuals)\n",
    "acf(model13$residuals)\n",
    "\n",
    "dwtest(model13)\n",
    "## 모형에는 유의하지 않은 변수로 구성되며, 1차자기상관는 없다고 판단된다.\n",
    "## 차분한 모형에서 모든 변수들이 유의하지 않으므로 차분을 사용하지 않는다.\n",
    "## 모든 차분 모형은 유의하지 않으므로 차분을 사용하지 않는다.  "
   ]
  },
  {
   "cell_type": "markdown",
   "metadata": {},
   "source": [
    "***\n",
    "\n",
    "## 💸 과거값을 사용한 새로운 변수를 만들어 자기상관을 낮춰보도록 한다.  \n"
   ]
  },
  {
   "cell_type": "code",
   "execution_count": 29,
   "metadata": {
    "vscode": {
     "languageId": "r"
    }
   },
   "outputs": [
    {
     "data": {
      "text/plain": [
       "\n",
       "Call:\n",
       "lm(formula = testy ~ testinterest + testlnexchange + testlnoil + \n",
       "    testlnKOSPI + testCOVID - 1, data = test)\n",
       "\n",
       "Residuals:\n",
       "     Min       1Q   Median       3Q      Max \n",
       "-0.83906 -0.20287 -0.03575  0.16333  0.86029 \n",
       "\n",
       "Coefficients:\n",
       "                 Estimate Std. Error t value Pr(>|t|)    \n",
       "testinterest   -7.153e-01  1.775e-01  -4.029 0.000244 ***\n",
       "testlnexchange  8.852e+00  3.512e-01  25.209  < 2e-16 ***\n",
       "testlnoil       1.193e+00  2.658e-01   4.489 5.93e-05 ***\n",
       "testlnKOSPI     4.323e+00  3.164e-01  13.660  < 2e-16 ***\n",
       "testCOVID       3.456e-05  4.706e-06   7.343 6.27e-09 ***\n",
       "---\n",
       "Signif. codes:  0 '***' 0.001 '**' 0.01 '*' 0.05 '.' 0.1 ' ' 1\n",
       "\n",
       "Residual standard error: 0.3241 on 40 degrees of freedom\n",
       "  (3 observations deleted due to missingness)\n",
       "Multiple R-squared:      1,\tAdjusted R-squared:      1 \n",
       "F-statistic: 8.635e+05 on 5 and 40 DF,  p-value: < 2.2e-16\n"
      ]
     },
     "metadata": {},
     "output_type": "display_data"
    },
    {
     "data": {
      "text/plain": [
       "\n",
       "\tDurbin-Watson test\n",
       "\n",
       "data:  modeltest\n",
       "DW = 1.6409, p-value = 0.03458\n",
       "alternative hypothesis: true autocorrelation is greater than 0\n"
      ]
     },
     "metadata": {},
     "output_type": "display_data"
    },
    {
     "data": {
      "image/png": "[encoded data removed]",
      "text/plain": [
       "Plot with title \"Series  modeltest$residuals\""
      ]
     },
     "metadata": {},
     "output_type": "display_data"
    },
    {
     "data": {
      "image/png": "[encoded data removed]",
      "text/plain": [
       "plot without title"
      ]
     },
     "metadata": {},
     "output_type": "display_data"
    }
   ],
   "source": [
    "########################################################### TEST 1\n",
    "par(mfrow = c(1,1))\n",
    "\n",
    "testy <- data$priceindex\n",
    "testinterest <- c(NA,NA,NA, data$interest[1:45])\n",
    "testlngoods <- data$lngoods\n",
    "testlnexchange <- c(NA, data$lnexchange[1:47])\n",
    "testlnoil <- c(NA, data$lnoil[1:47])\n",
    "testlnKOSPI <- data$lnKOSPI            \n",
    "testCOVID <- c(NA,NA, data$COVID[1:46])\n",
    "testtime <- data$time\n",
    "\n",
    "test <- data.frame(testy, testinterest, testlnexchange, testlnoil, testlnKOSPI, testCOVID)\n",
    "test$COVID_OX <- ifelse(test$testCOVID==0, test$COVID_OX <- 0, test$COVID_OX <- 1)\n",
    "\n",
    "modeltest <- lm(testy ~ testinterest + testlnexchange + testlnoil + testlnKOSPI + testCOVID-1, data = test)\n",
    "\n",
    "summary(modeltest)\n",
    "acf(modeltest$residuals)\n",
    "dwtest(modeltest)\n",
    "### dwtest 결과 p-value가 0.03으로 귀무가설을 기각한다.\n",
    "### 자기상관 문제를 해결하지 못했다.\n",
    "\n",
    "par(mfrow = c(2,4))\n",
    "plot(data$priceindex, type = 'l')\n",
    "plot(data$interest, type = 'l')\n",
    "plot(data$lngoods, type = 'l')\n",
    "plot(data$lnexchange, type = 'l')\n",
    "plot(data$lnoil, type = 'l')\n",
    "plot(data$lnKOSPI, type = 'l')\n",
    "plot(data$COVID, type = 'l')  "
   ]
  },
  {
   "cell_type": "markdown",
   "metadata": {},
   "source": [
    "\n"
   ]
  },
  {
   "cell_type": "code",
   "execution_count": 30,
   "metadata": {
    "vscode": {
     "languageId": "r"
    }
   },
   "outputs": [
    {
     "data": {
      "text/plain": [
       "\n",
       "Call:\n",
       "lm(formula = testy ~ testinterest + testinterest:(testCOVID) + \n",
       "    testlnexchange + testlnoil + testlnKOSPI - 1, data = test)\n",
       "\n",
       "Residuals:\n",
       "     Min       1Q   Median       3Q      Max \n",
       "-0.83398 -0.17787 -0.02295  0.16057  0.86845 \n",
       "\n",
       "Coefficients:\n",
       "                         Estimate Std. Error t value Pr(>|t|)    \n",
       "testinterest           -7.539e-01  1.687e-01  -4.469 6.31e-05 ***\n",
       "testlnexchange          8.781e+00  3.344e-01  26.262  < 2e-16 ***\n",
       "testlnoil               1.208e+00  2.560e-01   4.720 2.88e-05 ***\n",
       "testlnKOSPI             4.387e+00  3.033e-01  14.462  < 2e-16 ***\n",
       "testinterest:testCOVID  4.152e-05  5.376e-06   7.723 1.88e-09 ***\n",
       "---\n",
       "Signif. codes:  0 '***' 0.001 '**' 0.01 '*' 0.05 '.' 0.1 ' ' 1\n",
       "\n",
       "Residual standard error: 0.3146 on 40 degrees of freedom\n",
       "  (3 observations deleted due to missingness)\n",
       "Multiple R-squared:      1,\tAdjusted R-squared:      1 \n",
       "F-statistic: 9.162e+05 on 5 and 40 DF,  p-value: < 2.2e-16\n"
      ]
     },
     "metadata": {},
     "output_type": "display_data"
    },
    {
     "data": {
      "text/plain": [
       "\n",
       "\tDurbin-Watson test\n",
       "\n",
       "data:  modeltest\n",
       "DW = 1.6714, p-value = 0.04305\n",
       "alternative hypothesis: true autocorrelation is greater than 0\n"
      ]
     },
     "metadata": {},
     "output_type": "display_data"
    },
    {
     "data": {
      "text/html": [
       "30.3309848657411"
      ],
      "text/latex": [
       "30.3309848657411"
      ],
      "text/markdown": [
       "30.3309848657411"
      ],
      "text/plain": [
       "[1] 30.33098"
      ]
     },
     "metadata": {},
     "output_type": "display_data"
    },
    {
     "data": {
      "image/png": "[encoded data removed]",
      "text/plain": [
       "Plot with title \"Series  modeltest$residuals\""
      ]
     },
     "metadata": {},
     "output_type": "display_data"
    }
   ],
   "source": [
    "########################################################### TEST 2\n",
    "\n",
    "testy <- data$priceindex\n",
    "testinterest <- c(NA,NA,NA, data$interest[1:45])\n",
    "testlngoods <- c(NA,NA, data$lngoods[1:46])   \n",
    "testlnexchange <- c(NA, data$lnexchange[1:47])\n",
    "testlnoil <- c(NA, data$lnoil[1:47])\n",
    "testlnKOSPI <- data$lnKOSPI            \n",
    "testCOVID <- c(NA,NA, data$COVID[1:46])\n",
    "testtime <- data$time\n",
    "\n",
    "\n",
    "test <- data.frame(testy, testinterest, testlnexchange, testlngoods, testlnKOSPI, testCOVID, testlnoil)\n",
    "test$COVID_OX <- ifelse(test$testCOVID==0, test$COVID_OX <- 0, test$COVID_OX <- 1)\n",
    "\n",
    "modeltest <- lm(testy ~  testinterest + testinterest:(testCOVID) + testlnexchange + testlnoil + testlnKOSPI -1, data = test)\n",
    "\n",
    "\n",
    "summary(modeltest)\n",
    "acf(modeltest$residuals)\n",
    "dwtest(modeltest)\n",
    "### dwtest 결과 p-value가 0.04으로 귀무가설을 기각한다.\n",
    "### 자기상관 문제를 해결하지 못했다.\n",
    "AIC(modeltest)  "
   ]
  },
  {
   "cell_type": "markdown",
   "metadata": {},
   "source": [
    "\n"
   ]
  },
  {
   "cell_type": "code",
   "execution_count": 31,
   "metadata": {
    "vscode": {
     "languageId": "r"
    }
   },
   "outputs": [
    {
     "data": {
      "text/plain": [
       "\n",
       "Call:\n",
       "lm(formula = testy2 ~ testlnoil2 + testlnKOSPI2 + testCOVID2 + \n",
       "    testtime2, data = test2)\n",
       "\n",
       "Residuals:\n",
       "     Min       1Q   Median       3Q      Max \n",
       "-0.53347 -0.21994  0.00182  0.15957  0.92205 \n",
       "\n",
       "Coefficients:\n",
       "              Estimate Std. Error t value Pr(>|t|)    \n",
       "(Intercept)  8.091e+01  3.112e+00  26.004  < 2e-16 ***\n",
       "testlnoil2   1.056e+00  2.242e-01   4.709 2.84e-05 ***\n",
       "testlnKOSPI2 1.712e+00  4.016e-01   4.262 0.000116 ***\n",
       "testCOVID2   3.049e-05  5.582e-06   5.461 2.52e-06 ***\n",
       "testtime2    5.968e-02  6.557e-03   9.102 2.16e-11 ***\n",
       "---\n",
       "Signif. codes:  0 '***' 0.001 '**' 0.01 '*' 0.05 '.' 0.1 ' ' 1\n",
       "\n",
       "Residual standard error: 0.3227 on 41 degrees of freedom\n",
       "  (2 observations deleted due to missingness)\n",
       "Multiple R-squared:  0.9548,\tAdjusted R-squared:  0.9503 \n",
       "F-statistic: 216.3 on 4 and 41 DF,  p-value: < 2.2e-16\n"
      ]
     },
     "metadata": {},
     "output_type": "display_data"
    },
    {
     "data": {
      "text/plain": [
       "\n",
       "\tDurbin-Watson test\n",
       "\n",
       "data:  modeltest2\n",
       "DW = 1.3125, p-value = 0.001187\n",
       "alternative hypothesis: true autocorrelation is greater than 0\n"
      ]
     },
     "metadata": {},
     "output_type": "display_data"
    },
    {
     "data": {
      "image/png": "[encoded data removed]",
      "text/plain": [
       "Plot with title \"Series  modeltest2$residuals\""
      ]
     },
     "metadata": {},
     "output_type": "display_data"
    }
   ],
   "source": [
    "########################################################### TEST 3\n",
    "testy2 <- data$priceindex\n",
    "testlnoil2 <- c(NA, data$lnoil[1:47])\n",
    "testlnKOSPI2 <- data$lnKOSPI\n",
    "testCOVID2 <- c(NA,NA, data$COVID[1:46]) \n",
    "testtime2 <- data$time\n",
    "\n",
    "test2 <- data.frame(testy2, testlnoil2,testlnKOSPI2,testCOVID2,testtime2)\n",
    "modeltest2 <- lm(testy2 ~ testlnoil2 + testlnKOSPI2 + testCOVID2 + testtime2, data = test2)\n",
    "\n",
    "\n",
    "summary(modeltest2)\n",
    "par(mfrow=c(1,1))\n",
    "acf(modeltest2$residuals)\n",
    "dwtest(modeltest2)\n",
    "### dwtest 결과 p-value가 0.001로 귀무가설을 기각한다.\n",
    "### 자기상관 문제를 해결하지 못했다.  "
   ]
  },
  {
   "cell_type": "markdown",
   "metadata": {},
   "source": [
    "\n"
   ]
  },
  {
   "cell_type": "markdown",
   "metadata": {},
   "source": [
    "## 🏆 최종 모델 생성"
   ]
  },
  {
   "cell_type": "code",
   "execution_count": 32,
   "metadata": {
    "vscode": {
     "languageId": "r"
    }
   },
   "outputs": [
    {
     "data": {
      "text/plain": [
       "\n",
       "Call:\n",
       "lm(formula = final_target ~ final_interest:(final_COVID) + final_lnexchange:(COVID_OX) + \n",
       "    final_lnoil + final_lnexchange + final_lnKOSPI, data = final)\n",
       "\n",
       "Residuals:\n",
       "     Min       1Q   Median       3Q      Max \n",
       "-0.87142 -0.14990  0.01518  0.17462  0.96495 \n",
       "\n",
       "Coefficients:\n",
       "                             Estimate Std. Error t value Pr(>|t|)    \n",
       "(Intercept)                -7.058e+01  1.860e+01  -3.796 0.000478 ***\n",
       "final_lnoil                 1.395e+00  2.652e-01   5.258 4.88e-06 ***\n",
       "final_lnexchange            1.643e+01  2.133e+00   7.705 1.69e-09 ***\n",
       "final_lnKOSPI               6.300e+00  5.913e-01  10.656 2.20e-13 ***\n",
       "final_interest:final_COVID  8.536e-06  2.346e-06   3.639 0.000759 ***\n",
       "final_lnexchange:COVID_OX   7.268e-02  2.822e-02   2.576 0.013705 *  \n",
       "---\n",
       "Signif. codes:  0 '***' 0.001 '**' 0.01 '*' 0.05 '.' 0.1 ' ' 1\n",
       "\n",
       "Residual standard error: 0.3451 on 41 degrees of freedom\n",
       "  (1 observation deleted due to missingness)\n",
       "Multiple R-squared:  0.9494,\tAdjusted R-squared:  0.9432 \n",
       "F-statistic: 153.9 on 5 and 41 DF,  p-value: < 2.2e-16\n"
      ]
     },
     "metadata": {},
     "output_type": "display_data"
    },
    {
     "data": {
      "text/plain": [
       "\n",
       "\tDurbin-Watson test\n",
       "\n",
       "data:  model_final\n",
       "DW = 1.8058, p-value = 0.08504\n",
       "alternative hypothesis: true autocorrelation is greater than 0\n"
      ]
     },
     "metadata": {},
     "output_type": "display_data"
    },
    {
     "data": {
      "text/html": [
       "40.9474064739968"
      ],
      "text/latex": [
       "40.9474064739968"
      ],
      "text/markdown": [
       "40.9474064739968"
      ],
      "text/plain": [
       "[1] 40.94741"
      ]
     },
     "metadata": {},
     "output_type": "display_data"
    },
    {
     "data": {
      "image/png": "[encoded data removed]",
      "text/plain": [
       "Plot with title \"Series  model_final$residuals\""
      ]
     },
     "metadata": {},
     "output_type": "display_data"
    },
    {
     "data": {
      "image/png": "[encoded data removed]",
      "text/plain": [
       "Plot with title \"\""
      ]
     },
     "metadata": {},
     "output_type": "display_data"
    }
   ],
   "source": [
    "########################################################### FINAL TEST \n",
    "final_target <- data$priceindex\n",
    "final_interest <- c(NA, data$interest[1:47])\n",
    "final_lngoods <- c(NA,NA,NA, data$lngoods[1:45])       \n",
    "final_lnexchange <- c(NA, data$lnexchange[1:47])\n",
    "final_lnoil <- c(NA, data$lnoil[1:47])\n",
    "final_lnKOSPI <- data$lnKOSPI            \n",
    "final_COVID <-  data$COVID \n",
    "final_time <- data$time\n",
    "\n",
    "\n",
    "final <- data.frame(final_target, final_interest, final_lnexchange, final_lngoods, final_lnKOSPI, final_COVID, final_lnoil, final_time)\n",
    "\n",
    "final$COVID_OX <- ifelse(final$final_COVID==0, final$COVID_OX <- 0, final$COVID_OX <- 1)\n",
    "final$COVID_OX <- c(NA, final$COVID_OX[1:47])\n",
    "\n",
    "model_final <- lm(final_target ~ final_interest:(final_COVID) + final_lnexchange:(COVID_OX) + final_lnoil + final_lnexchange + final_lnKOSPI, data = final)\n",
    "\n",
    "summary(model_final)\n",
    "acf(model_final$residuals)\n",
    "dwtest(model_final)\n",
    "### dwtest 결과 p-value가 0.08으로 귀무가설을 기각하지 못한다.\n",
    "### 자기상관 문제를 해결하였다. \n",
    "\n",
    "AIC(model_final)\n",
    "\n",
    "par(mfrow = c(2,2))\n",
    "plot(model_final)  "
   ]
  },
  {
   "cell_type": "markdown",
   "metadata": {},
   "source": [
    "## 💸 종속변수 예측에 미치는 각 독립변수별 설명정도를 시각화하였다.  \n",
    "\n"
   ]
  },
  {
   "cell_type": "code",
   "execution_count": 33,
   "metadata": {
    "vscode": {
     "languageId": "r"
    }
   },
   "outputs": [
    {
     "data": {
      "text/html": [
       "<table>\n",
       "<thead><tr><th></th><th scope=col>Weights</th></tr></thead>\n",
       "<tbody>\n",
       "\t<tr><th scope=row>final_lnoil</th><td> 6.414000</td></tr>\n",
       "\t<tr><th scope=row>final_lnexchange</th><td> 7.867134</td></tr>\n",
       "\t<tr><th scope=row>final_interest</th><td>10.708314</td></tr>\n",
       "\t<tr><th scope=row>COVID_OX</th><td>15.419624</td></tr>\n",
       "\t<tr><th scope=row>final_COVID</th><td>26.318275</td></tr>\n",
       "\t<tr><th scope=row>final_lnKOSPI</th><td>33.272654</td></tr>\n",
       "</tbody>\n",
       "</table>\n"
      ],
      "text/latex": [
       "\\begin{tabular}{r|l}\n",
       "  & Weights\\\\\n",
       "\\hline\n",
       "\tfinal\\_lnoil &  6.414000\\\\\n",
       "\tfinal\\_lnexchange &  7.867134\\\\\n",
       "\tfinal\\_interest & 10.708314\\\\\n",
       "\tCOVID\\_OX & 15.419624\\\\\n",
       "\tfinal\\_COVID & 26.318275\\\\\n",
       "\tfinal\\_lnKOSPI & 33.272654\\\\\n",
       "\\end{tabular}\n"
      ],
      "text/markdown": [
       "\n",
       "| <!--/--> | Weights |\n",
       "|---|---|\n",
       "| final_lnoil |  6.414000 |\n",
       "| final_lnexchange |  7.867134 |\n",
       "| final_interest | 10.708314 |\n",
       "| COVID_OX | 15.419624 |\n",
       "| final_COVID | 26.318275 |\n",
       "| final_lnKOSPI | 33.272654 |\n",
       "\n"
      ],
      "text/plain": [
       "                 Weights  \n",
       "final_lnoil       6.414000\n",
       "final_lnexchange  7.867134\n",
       "final_interest   10.708314\n",
       "COVID_OX         15.419624\n",
       "final_COVID      26.318275\n",
       "final_lnKOSPI    33.272654"
      ]
     },
     "metadata": {},
     "output_type": "display_data"
    },
    {
     "data": {
      "image/png": "[encoded data removed]",
      "text/plain": [
       "Plot with title \"Relative Importance of predictor Variables\""
      ]
     },
     "metadata": {},
     "output_type": "display_data"
    }
   ],
   "source": [
    "relweights <- function(fit, col){\n",
    "  R <- cor(fit$model)\n",
    "  nvar <- ncol(R)\n",
    "  rxx <- R[2:nvar, 2:nvar]\n",
    "  rxy <- R[2:nvar, 1]\n",
    "  svd <- eigen(rxx)\n",
    "  evec <- svd$vectors\n",
    "  ev <- svd$values\n",
    "  delta <- diag(sqrt(ev))\n",
    "  lambda <- evec %*% delta %*% t(evec)\n",
    "  lambdasq <- lambda^2\n",
    "  beta <- solve(lambda) %*% rxy\n",
    "  rsquare <- colSums(beta^2)\n",
    "  rawwgt <- lambdasq %*% beta ^ 2\n",
    "  import <- (rawwgt / rsquare) * 100\n",
    "  import <- as.data.frame(import)\n",
    "  row.names(import) <- names(fit$model[2:nvar])\n",
    "  names(import) <- \"Weights\"\n",
    "  import <- import[order(import),1,drop = FALSE]\n",
    "  dotchart(import$Weights, labels = row.names(import),\n",
    "           xlab = \"% of R-square\", pch = 19,\n",
    "           main = \"Relative Importance of predictor Variables\",\n",
    "           sub = paste(\"Total R-square=\", round(rsquare, digits = 3)),\n",
    "           col = col)\n",
    "  \n",
    "  return(import)\n",
    "}\n",
    "\n",
    "result = relweights(model_final, 'blue')\n",
    "result  "
   ]
  },
  {
   "cell_type": "markdown",
   "metadata": {},
   "source": [
    "\n"
   ]
  },
  {
   "cell_type": "code",
   "execution_count": 34,
   "metadata": {
    "vscode": {
     "languageId": "r"
    }
   },
   "outputs": [
    {
     "name": "stderr",
     "output_type": "stream",
     "text": [
      "Registered S3 methods overwritten by 'ggplot2':\n",
      "  method         from \n",
      "  [.quosures     rlang\n",
      "  c.quosures     rlang\n",
      "  print.quosures rlang\n"
     ]
    },
    {
     "data": {
      "image/png": "[encoded data removed]",
      "text/plain": [
       "Plot with title \"Relative Importance of predictor Variables\""
      ]
     },
     "metadata": {},
     "output_type": "display_data"
    },
    {
     "data": {
      "image/png": "[encoded data removed]",
      "text/plain": [
       "plot without title"
      ]
     },
     "metadata": {},
     "output_type": "display_data"
    }
   ],
   "source": [
    "library(ggplot2)\n",
    "plotRelWeights <- function(fit, col){\n",
    "  data <- relweights(fit, col)\n",
    "  data$Predictors <- rownames(data)\n",
    "  p <- ggplot(data = data, aes(x=reorder(Predictors, Weights), y = Weights, fill=Predictors))+\n",
    "    geom_bar(stat = 'identity',width = 0.5)+\n",
    "    ggtitle(\"Relative Importance of predictor Variables\")+\n",
    "    ylab(paste0(\"% of R-square \\n(Total R-square = \",attr(data, \"R-square\"),\")\"))+\n",
    "    geom_text(aes(y=Weights-0.1, label=paste(round(Weights,1),\"%\")), hjust=1)+\n",
    "    guides(fill=FALSE)+\n",
    "    coord_flip()\n",
    "  \n",
    "  p\n",
    "}\n",
    "\n",
    "plotRelWeights(model_final, 'blue')  "
   ]
  }
 ],
 "metadata": {
  "anaconda-cloud": "",
  "kernelspec": {
   "display_name": "R",
   "language": "R",
   "name": "ir"
  },
  "language_info": {
   "codemirror_mode": "r",
   "file_extension": ".r",
   "mimetype": "text/x-r-source",
   "name": "R",
   "pygments_lexer": "r",
   "version": "3.6.1"
  },
  "toc": {
   "base_numbering": 1,
   "nav_menu": {},
   "number_sections": true,
   "sideBar": true,
   "skip_h1_title": false,
   "title_cell": "Table of Contents",
   "title_sidebar": "Contents",
   "toc_cell": false,
   "toc_position": {},
   "toc_section_display": true,
   "toc_window_display": false
  }
 },
 "nbformat": 4,
 "nbformat_minor": 1
}

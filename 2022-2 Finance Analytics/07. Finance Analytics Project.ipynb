{
    "cells": [
        {
            "cell_type": "markdown",
            "metadata": {},
            "source": [
                "   \n",
                "\n",
                "# 📈 2022 파이낸스 어낼리틱스 강민구/이윤지  \n",
                "\n",
                "# 📈 소비자물가지수에 영향을 미치는 주요 경제 지표 분석 및 정책 제안 프로젝트\n"
            ]
        },
        {
            "cell_type": "code",
            "execution_count": null,
            "metadata": {},
            "outputs": [],
            "source": [
                "# 경로 지정(working directory)\n",
                "setwd(\"C:/Users/mingu/Desktop/Finance Analytics Data\")\n"
            ]
        },
        {
            "cell_type": "markdown",
            "metadata": {},
            "source": [
                "***\n",
                "\n",
                "## 💸 데이터 불러오기  \n"
            ]
        },
        {
            "cell_type": "code",
            "execution_count": null,
            "metadata": {},
            "outputs": [],
            "source": [
                "library(dplyr)\n",
                "\n",
                "a <- read.csv(\"국제수지_20221103193403.csv\", fileEncoding = 'euc-kr')\n",
                "b <- read.csv(\"국제유가_도입현황_20221103191120.csv\", fileEncoding = 'euc-kr')\n",
                "c <- read.csv(\"소비자물가지수_2020100__20221103190937.csv\", fileEncoding = 'euc-kr')\n",
                "d <- read.csv(\"수출입총괄_20221103200616.csv\", fileEncoding = 'euc-kr')\n",
                "g <- read.csv(\"한국은행 기준금리.csv\", fileEncoding = 'euc-kr')\n",
                "\n",
                "# 데이터 확인\n",
                "\n",
                "# 국제수지\n",
                "#summary(a); head(a)\n",
                "\n",
                "# 국제유가\n",
                "#summary(b); head(b)\n",
                "\n",
                "# 소비자 물가지수\n",
                "#summary(c); head(c)\n",
                "c <- c %>% rename(\"물가지수\"=\"전국\")\n",
                "\n",
                "# 수출입총괄 : 무역수지\n",
                "#summary(d); head(d); tail(d)\n",
                "d <- d %>% rename(\"무역수지\"=\"무역수지..천불.\")\n",
                "\n",
                "# 한국은행 기준금리\n",
                "#summary(g); head(g)\n",
                "g$변경월 <- substr(g$변경일자,1,2)\n",
                "g$시점 <- paste(g$변경년도,\".\",g$변경월,sep=\"\")\n",
                "g1 <- g %>% filter(변경년도 < 2022 & 변경년도 > 2017)\n",
                "#str(g1)\n",
                "g2 <- g1 %>% select(시점,기준금리)\n",
                "\n",
                "##### 민구 : 코스피, 환율, 유가, COFIX 금리, 코로나 확진자 수\n",
                "##### 윤지 : 경상수지, 상품수지, 무역수지, 물가지수, 금리\n",
                "\n",
                "# 데이터 전처리\n",
                "\n",
                "data <- a %>% filter(as.numeric(substr(시점, 1,4))<2022) %>% select(시점, 경상수지, 상품수지) \n",
                "data1 <- d %>% filter(as.numeric(substr(시점, 1,4))<2022) %>% select(시점, 무역수지) \n",
                "data2 <- c %>% filter(as.numeric(substr(시점,1,4))<2022) %>% select(시점, 물가지수)\n",
                "\n",
                "data$시점 <- as.character(data$시점)\n",
                "data1$시점 <- as.character(data1$시점)\n",
                "data2$시점 <- as.character(data2$시점)\n",
                "\n",
                "for(i in 1:length(data$시점)){\n",
                "  if(nchar(data$시점[i])==6){\n",
                "    data$시점[i] <- paste(data$시점[i],\"0\",sep=\"\")\n",
                "  }\n",
                "}\n",
                "\n",
                "for(i in 1:length(data1$시점)){\n",
                "  if(nchar(data1$시점[i])==6){\n",
                "    data1$시점[i] <- paste(data1$시점[i],\"0\",sep=\"\")\n",
                "  }\n",
                "}\n",
                "\n",
                "for(i in 1:length(data2$시점)){\n",
                "  if(nchar(data2$시점[i])==6){\n",
                "    data2$시점[i] <- paste(data2$시점[i],\"0\",sep=\"\")\n",
                "  }\n",
                "}\n",
                "\n",
                "data <- left_join(data,g2,by='시점')\n",
                "data <- left_join(data,data1,by='시점')\n",
                "data <- left_join(data,data2,by='시점')\n",
                "\n",
                "for(i in 1:length(data$시점)){\n",
                "  if(is.na(data$기준금리[i])){\n",
                "    if(i<11){data$기준금리[i] <- data$기준금리[11]}\n",
                "    else if(i<19){data$기준금리[i] <- data$기준금리[19]}\n",
                "    else if(i<22){data$기준금리[i] <- data$기준금리[22]}\n",
                "    else if(i<27){data$기준금리[i] <- data$기준금리[27]}\n",
                "    else if(i<29){data$기준금리[i] <- data$기준금리[29]}\n",
                "    else if(i<44){data$기준금리[i] <- data$기준금리[44]}\n",
                "    else if(i<47){data$기준금리[i] <- data$기준금리[47]}\n",
                "    else{data$기준금리[i] <- 1.25}\n",
                "  }\n",
                "}\n",
                "\n",
                "\n",
                "data_m <- read.csv(\"data_m.csv\",header=T, encoding=\"UTF-8\")\n",
                "#summary(data_m)\n",
                "#colnames(data_m)\n",
                "data_m <- data_m %>% rename(\"시점\"=\"날짜\") %>% rename(\"유가\"=\"도입단가..US..배럴.\") %>% rename(\"COFIX금리\"=\"신규취급액기준.COFIX\") \n",
                "data_m$시점 <- as.character(data_m$시점)\n",
                "for(i in 1:length(data_m$시점)){\n",
                "  if(nchar(data_m$시점[i])==6){\n",
                "    data_m$시점[i] <- paste(data_m$시점[i],\"0\",sep=\"\")\n",
                "  }\n",
                "}\n",
                "\n",
                "data <- full_join(data,data_m,by=\"시점\")\n",
                "data <- data %>% rename(\"환율\"=\"종가\")\n",
                "head(data)\n",
                "summary(data)\n"
            ]
        },
        {
            "cell_type": "markdown",
            "metadata": {},
            "source": [
                "***\n",
                "\n",
                "## 💸 8가지 가정 검정  \n"
            ]
        },
        {
            "cell_type": "code",
            "execution_count": null,
            "metadata": {},
            "outputs": [],
            "source": [
                "# 독립변수 간 상관계수 계산(가정6 확인)\n",
                "data_cor <- data %>% select(-c(\"시점\",\"물가지수\"))\n",
                "data_cor <- cor(data_cor)\n",
                "#install.packages(\"corrplot\")\n",
                "library(corrplot)\n",
                "corrplot(data_cor)  \n"
            ]
        },
        {
            "cell_type": "markdown",
            "metadata": {},
            "source": [
                "  \n",
                "<br>  \n",
                "\n",
                "강한 양의 상관관계는 무역수지-상품수지, 경상수지-상품수지, 경상수지-무역수지, COFIX금리-기준금리에서 보였으며, 강한 음의 상관관계는 없었습니다.  \n",
                "\n",
                "다중공산성을 제거하기 위해 무역수지, 상품수지, 경상수지 중 하나만 사용하기로 결정하며, 상품수지만을 남기기로 하였습니다.  \n",
                "또한 COFIX금리와 기준금리 중 기준금리를 이용하기로 하였습니다.  \n",
                "<br>\n"
            ]
        },
        {
            "cell_type": "code",
            "execution_count": null,
            "metadata": {},
            "outputs": [],
            "source": [
                "data <- data %>% select(-c(\"무역수지\",\"경상수지\",\"COFIX금리\"))  \n",
                "\n"
            ]
        },
        {
            "cell_type": "markdown",
            "metadata": {},
            "source": [
                "***\n",
                "\n",
                "<br>\n",
                "📌 1) 가정1 : 변수 Y와 X의 관계는 선형(Linear)이다.  \n",
                "  - 잔차, scatter plot으로 확인 가능(모형 설정 후 확인)  \n",
                "  \n",
                "📌 2) 가정2 : X는 확률변수가 아닌 주어진 상수값이다.  \n",
                "  - 그냥 받아들인다.  \n",
                "  \n",
                "📌 3) 가정3 : X값이 주어져 있을 때, 오차항의 평균은 0이다.  \n",
                "  - 잔차 plot으로 확인(모형 설정 후 확인)  \n",
                "  \n",
                "📌 4) 가정4 : X값이 주어져 있을때, 오차항의 분산은 시그마^2 로 모든 개체 i에 대해 동일하다.  \n",
                "  - 잔차 plot으로 확인, 로그변환으로 해결(모형 설정 후 확인)  \n",
                "  \n",
                "📌 5) 가정5 : 서로 다른 개체간 오차항들은 상관되어있지 않다.  \n",
                "  - 오차항의 자기상관 문제(모형 설정 후 확인)  \n",
                "  - 잔차의 time plot / 잔차의 autocorrelation function / 더빗왓슨 검정 으로 확인  \n",
                "  - 시게열 가변수 추가 / 과거 독립변수값을 새로운 독립변수로 추가 / 변수변환 - 차분  \n",
                "  \n",
                "📌 6) 가정6 : X변수들이 여러 개 있을 때, X변수들 사이에는 선형관계가 없다  \n",
                "  - 다중공선성 문제가 없음을 가정  \n",
                "  - 높은 독립변수 간 상관계수 / 높은 R-square값, 그러나 유의하지 않은 t값  \n",
                "  - 상관계수가 높은 독립변수 제거  \n",
                "  \n",
                "📌 7) 가정7 : 모형 설정 오류가 없음  \n",
                "  - 그냥 받아들인다.  \n",
                "  \n",
                "📌 8) 가정8 : 오차항은 정규분포를 따름을 가정(모형 설정 후 확인)  \n",
                "  - 잔차의 Histogram과 Normal qq plot이 Plot1과 같음을 확인  \n",
                "  \n",
                "📌 가정 1,3,4,5,8는 모형 설정 후 진단한다.  \n",
                "<br>  \n",
                "\n",
                "***  \n",
                "\n",
                "## 💸 시계열 데이터로 만들기  \n"
            ]
        },
        {
            "cell_type": "code",
            "execution_count": null,
            "metadata": {},
            "outputs": [],
            "source": [
                "#################\n",
                "## 변수명 변경 ##\n",
                "#################\n",
                "data$interest <- data$기준금리\n",
                "data$lngoods <- log(data$상품수지)\n",
                "data$priceindex <- data$물가지수\n",
                "data$lnexchange <- log(data$환율)\n",
                "data$lnoil <- log(data$유가)\n",
                "data$lnKOSPI <- log(data$KOSPI)\n",
                "str(data)\n",
                "## 종속변수인 물가지수는 비율(%)이므로 로그변환을 하지 않는다.\n",
                "## 로그변환이 가능한 독립변수는 로그변환 시킨다.\n",
                "## 비율 기준 금리는 제외하고 진행한다.\n",
                "## COVID는 0을 포함하기 때문에 로그변환을 하지 않는다.\n"
            ]
        },
        {
            "cell_type": "markdown",
            "metadata": {},
            "source": "\n"
        },
        {
            "cell_type": "code",
            "execution_count": null,
            "metadata": {},
            "outputs": [],
            "source": [
                "# 로그 변환 후 상관계수 확인\n",
                "data_cor <- data %>% select(c(\"interest\",\"lngoods\",\"priceindex\",\"lnexchange\",\"lnoil\",\"lnKOSPI\",\"COVID\"))\n",
                "data_cor <- cor(data_cor)\n",
                "corrplot(data_cor)  \n"
            ]
        },
        {
            "cell_type": "markdown",
            "metadata": {},
            "source": "\n"
        },
        {
            "cell_type": "code",
            "execution_count": null,
            "metadata": {},
            "outputs": [],
            "source": [
                "# 종속변수와 각 독립변수의 그래프 확인\n",
                "data_ts <- ts(data, frequency = 12, start=c(2018,1))\n",
                "par(mfrow=c(2,3))\n",
                "plot(interest~priceindex, data=data_ts)\n",
                "plot(lngoods~priceindex, data=data_ts)\n",
                "plot(lnexchange~priceindex, data=data_ts)\n",
                "plot(lnoil~priceindex, data=data_ts)\n",
                "plot(lnKOSPI~priceindex, data=data_ts)\n",
                "plot(COVID~priceindex,data=data_ts)\n",
                "par(mfrow=c(1,1))  \n"
            ]
        },
        {
            "cell_type": "markdown",
            "metadata": {},
            "source": "\n"
        },
        {
            "cell_type": "code",
            "execution_count": null,
            "metadata": {},
            "outputs": [],
            "source": [
                "data$time <- c(1:48) # time 변수 만들기 #\n",
                "data <- data %>% select(c(\"interest\",\"lngoods\",\"priceindex\",\"lnexchange\",\"lnoil\",\"lnKOSPI\",\"COVID\",\"time\"))\n",
                "data_ts <- ts(data, frequency = 12, start=c(2018,1))\n",
                "plot(data_ts,type=\"p\")\n",
                "# 분산이 점차 커지는 변수가 많으므로, 로그 변환하기로 결정을 내렸다.\n"
            ]
        },
        {
            "cell_type": "markdown",
            "metadata": {},
            "source": [
                "***\n",
                "\n",
                "## 💸 기본 다중회귀 모형 테스트  \n"
            ]
        },
        {
            "cell_type": "code",
            "execution_count": null,
            "metadata": {},
            "outputs": [],
            "source": [
                "model1 <- lm(priceindex~interest+lngoods+lnexchange+lnoil+lnKOSPI+COVID, data=data_ts)\n",
                "summary(model1)\n",
                "## lngoods의 p-value가 유의하지 않으므로 제거한다.  \n"
            ]
        },
        {
            "cell_type": "markdown",
            "metadata": {},
            "source": "\n"
        },
        {
            "cell_type": "code",
            "execution_count": null,
            "metadata": {},
            "outputs": [],
            "source": [
                "model2 <- lm(priceindex~interest+lnexchange+lnoil+lnKOSPI+COVID, data=data_ts)\n",
                "summary(model2)\n",
                "## 절편의 p-value가 유의하지 않으므로 제거한다.  \n"
            ]
        },
        {
            "cell_type": "markdown",
            "metadata": {},
            "source": "\n"
        },
        {
            "cell_type": "code",
            "execution_count": null,
            "metadata": {},
            "outputs": [],
            "source": [
                "model3 <- lm(priceindex~interest+lnexchange+lnoil+lnKOSPI+COVID-1, data=data_ts)\n",
                "summary(model3)\n",
                "## 각 독립변수는 p-value가 유의하고 모형의 R-square는 100%의 설명력을 가진다.\n",
                "## 모델에서 절편을 제거한 경우 모델은 한계점을 가졌다.  \n"
            ]
        },
        {
            "cell_type": "markdown",
            "metadata": {},
            "source": [
                "**\n",
                "\n",
                "##💸 잔차 검정(가정 3,4,5,6,8을 진단한다.)  \n",
                "\n",
                "\n",
                "📌 시계열 회귀분석에서는 아래 상황을 고려한다.  \n",
                "\n",
                "  - 가정 5번째를 반드시 체크를 해야한다.   \n",
                "  - 서로 다른 개체간 오차항들은 상관되어 있지 않다. = 자기 상관(autocorrelation)  \n",
                "  - 오차항의 자기상관 문제는 시계열 자료에서 발생한다.  \n",
                "  - 자기상관이 없을 순 없다. 그럼에도 회귀분석을 한다. 이는 x변수 자체도 시계열 변수이기 때문이다.  \n",
                "  - x,y가 상관되어 있지 않다가 아닌 \"오차항\"이 상관되어 있지 않다는 의미이다.  \n",
                "  - x자기상관, y자기상관은 상관없다. 잔차에 자기상관이 남아있으면 조치를 취해야 함.  \n",
                "\n",
                "  - y_hat residual에서 분산이 커지면 log를 취한다.  \n",
                "  \n",
                "<br>  \n",
                "\n",
                "\n",
                "📌 오차에 자기상관이 남아있을 수 있다. 확인하는 세 가지 방법은 다음과 같다.  \n",
                "  - 1) 잔차의 time plot : x축 yhat ,y축 residual로는 못 본다. x축이 time이여야 볼 수 있다.  \n",
                "  - 2) 잔차의 autocorrealtion function  \n",
                "  - 3) 더빈왓슨 검정\n"
            ]
        },
        {
            "cell_type": "code",
            "execution_count": null,
            "metadata": {},
            "outputs": [],
            "source": [
                "## 1) 잔차의 time plot\n",
                "# 원래 잔차는 연결하면 안 된다. 원래 잔차는 행의 위치가 바껴도 상관이 없다.\n",
                "# 그러나 time data는 행 순서가 바뀔 수 없다. 시간에 흐름에 따라 순서도 자료이다.\n",
                "par(mfrow=c(1,1))\n",
                "plot(model3$residuals, type=\"l\") # both : type='b', line : type='l'\n",
                "abline(h=0, col=\"red\")\n",
                "\n",
                "# 자기상관이 없으면 랜덤하게 있어야 한다.\n",
                "# 자기 상관이 있으면 - -> -, + -> + 내려와있다가 올라와있다.\n",
                "# 자기 상관이 없다고 판단된다.  \n"
            ]
        },
        {
            "cell_type": "markdown",
            "metadata": {},
            "source": "\n"
        },
        {
            "cell_type": "code",
            "execution_count": null,
            "metadata": {},
            "outputs": [],
            "source": [
                "## 2) 잔차의 자기상관도표(ACF) : 잔차의 자기상관계수 계산\n",
                "## 특별한 패키지가 필요하지 않다.\n",
                "acf(model3$residuals, main=\"ACF\", lag.max=24)\n",
                "## 1차 상관계수, 2차 상관계수\n",
                "# 파란색 안으로 들어와 있다 = 자기상관 없다. \n",
                "# monthly 데이터에서 1년 전 데이터, 계절성이 있을 수 있다. 적어도 24까지는 봐야한다.\n",
                "# 옵션으로 계절성 확인하자.\n",
                "### but 1차 자기상관계수, 15차 자기상관계수가 유의미한게 있다.\n",
                "\n",
                "## 3) 더빈왓슨 검정\n",
                "## 1차 자기상관이 0이면 2에 가까운 값을 갖는다.\n",
                "## 1차 자기상관이 positive correlation 이면 0이고,\n",
                "## 1차 자기상관이 negative correlation 이면 4이다.\n",
                "## 2에 가까울수록 문제가 없는 것이다.\n",
                "\n",
                "## DW test ##\n",
                "#install.packages(\"lmtest\")\n",
                "library(lmtest)\n",
                "dwtest(model3)\n",
                "\n",
                "## 귀무가설 : 자기상관이 없다. d=2\n",
                "## p-value 작다. H0 기각, 자기상관이 있다.\n",
                "## 내가 바라는 건 p-value > 0.05이기 바란다.\n",
                "\n",
                "## 결과 값을 보면 4.423e-05로 <0.05, 자기상관이 있다.\n",
                "## DW만 보면 안되는 이유는 1차 자기상관만 확인가능하기 때문이다.\n",
                "## something special : 계절성 확인 어렵다.\n",
                "## 그래서 ACF까지도 같이 확인해야 한다.\n",
                "## ACF는 다 보여주는 것\n"
            ]
        },
        {
            "cell_type": "markdown",
            "metadata": {},
            "source": [
                "***\n",
                "\n",
                "##💸 오차의 자기상관 해결방법  \n",
                "\n",
                "📌 1) 독립변수 추가 : 시계열 가변수 추가  \n",
                "\n",
                "  - 자기상관이 생기는 이유 : 추세, 계절성, 순환(cycle)  \n",
                "  - 1) 추세 : 증가하는 추세, 독립변수에 추세(t, t^2)를 넣어줌으로 해결(가짜변수) 한 달 지날때마다 저만큼 증가합니다.  \n",
                "  - 2) 계절을 반영하는 가변수(dummy variable)을 모형에 독립변수로 추가한다.  \n",
                "    - x: time, y:y변수 plot을 통해 계절성을 확인하자. dummy 12개 넣고 유의미하지 않은 dummy는 지운다.  \n",
                "    - 가짜변수를 많이 넣어 R square의 설명력을 높이면 prediction 예측할 때 유리  \n",
                "  - 3) 순환효과를 설명하는 삼각함수항을 추가한다.  \n",
                "    - 사인과 코사인을 같이 넣어서 주기를 맞춘다. 고정폭, 확산폭  \n",
                "    \n"
            ]
        },
        {
            "cell_type": "code",
            "execution_count": null,
            "metadata": {},
            "outputs": [],
            "source": [
                "plot(priceindex ~ time, data=data_ts)\n",
                "# 시간에 따라 증가하는 추세가 있어보인다.\n"
            ]
        },
        {
            "cell_type": "markdown",
            "metadata": {},
            "source": "\n"
        },
        {
            "cell_type": "code",
            "execution_count": null,
            "metadata": {},
            "outputs": [],
            "source": [
                "# time 변수 추가\n",
                "model3 <- lm(priceindex~interest+lnexchange+lnoil+lnKOSPI+COVID-1, data=data_ts)\n",
                "\n",
                "modelwithtrend1 <- lm(priceindex~interest+lnexchange+lnoil+lnKOSPI+COVID+time-1, data=data_ts)\n",
                "summary(modelwithtrend1)  \n"
            ]
        },
        {
            "cell_type": "markdown",
            "metadata": {},
            "source": "\n"
        },
        {
            "cell_type": "code",
            "execution_count": null,
            "metadata": {},
            "outputs": [],
            "source": [
                "modelwithtrend2 <- lm(priceindex~lnexchange+lnoil+lnKOSPI+COVID+time-1, data=data_ts)\n",
                "summary(modelwithtrend2)\n"
            ]
        },
        {
            "cell_type": "markdown",
            "metadata": {},
            "source": "\n"
        },
        {
            "cell_type": "code",
            "execution_count": null,
            "metadata": {},
            "outputs": [],
            "source": [
                "par(mfrow=c(1,2))\n",
                "acf(modelwithtrend2$residuals,main=\"with t\")\n",
                "acf(model2$residuals, main=\"without t\")\n",
                "\n",
                "dwtest(model2) ; dwtest(modelwithtrend2)\n",
                "## dwtest 결과 time변수를 추가하여도 여전히 낮은 p-value를 취한다.\n",
                "## 따라서 time 변수는 추가하지 않는다.  \n"
            ]
        },
        {
            "cell_type": "markdown",
            "metadata": {},
            "source": [
                "📌 2) 독립변수의 과거값을 새로운 독립변수로 추가  \n",
                "  - 과거 x변수를 넣는다. 독립변수에 작년 것을 넣는다 => 시계열모형으로 간다.(선형회귀 area 밖)  \n",
                "  - 선형변수 가정 : x변수는 주어졌다고 생각하자를 위반  \n",
                "  - OLS를 못 쓴다. -> 시계열 모형(AR)으로 넘어감, 형태는 똑같음  \n",
                "  \n"
            ]
        },
        {
            "cell_type": "code",
            "execution_count": null,
            "metadata": {},
            "outputs": [],
            "source": [
                "## input X_t-1 ##\n",
                "nn = dim(data_ts)[1]\n",
                "data$interest1 <- c(NA, data$interest[1:nn-1])\n",
                "data_ts <- ts(data, frequency = 12, start=c(2018,1))\n",
                "\n",
                "model3 <- lm(priceindex~interest+lnexchange+lnoil+lnKOSPI+COVID-1, data=data_ts)\n",
                "summary(model3)  \n"
            ]
        },
        {
            "cell_type": "markdown",
            "metadata": {},
            "source": "\n"
        },
        {
            "cell_type": "code",
            "execution_count": null,
            "metadata": {},
            "outputs": [],
            "source": [
                "cor(data_ts)\n",
                "acf(model3$residuals)\n",
                "model3 <- lm(priceindex~interest+lnexchange+lnoil+lnKOSPI+COVID-1, data=data_ts)  \n"
            ]
        },
        {
            "cell_type": "markdown",
            "metadata": {},
            "source": "\n"
        },
        {
            "cell_type": "code",
            "execution_count": null,
            "metadata": {},
            "outputs": [],
            "source": [
                "modelwithinterest<- lm(priceindex~interest+interest+lnexchange+lnoil+lnKOSPI+COVID-1, data=data_ts)\n",
                "summary(modelwithinterest)\n",
                "acf(modelwithinterest$residuals)\n",
                "dwtest(modelwithinterest)\n",
                "## 유의미하지 않은 변수 추가로 더 나빠짐. 해결 안 된다.  \n"
            ]
        },
        {
            "cell_type": "markdown",
            "metadata": {},
            "source": "\n"
        },
        {
            "cell_type": "code",
            "execution_count": null,
            "metadata": {},
            "outputs": [],
            "source": [
                "### 각각의 변수의 과거값을 사용한다. \n",
                "### 과거값을 포함한 새로운 변수를 추가해본다.\n",
                "## input X_t-2 ##\n",
                "data$COVID1 <- c(NA,NA, data$COVID[1:46])\n",
                "modelwithCOVID1<- lm(priceindex~interest+lnexchange+lnoil+lnKOSPI+COVID1-1, data=data)\n",
                "summary(modelwithCOVID1)\n",
                "acf(modelwithCOVID1$residuals, lag.max = 24)\n",
                "dwtest(modelwithCOVID1)  \n"
            ]
        },
        {
            "cell_type": "markdown",
            "metadata": {},
            "source": "\n"
        },
        {
            "cell_type": "code",
            "execution_count": null,
            "metadata": {},
            "outputs": [],
            "source": [
                "## input X_t-3 ##\n",
                "data$interest1 <- c(NA,NA,NA, data$interest[1:45])\n",
                "modelwithinterest1<- lm(priceindex~interest1+lnexchange+lnoil+lnKOSPI+COVID1-1, data=data)\n",
                "summary(modelwithinterest1)\n",
                "acf(modelwithinterest1$residuals, lag.max = 24)\n",
                "dwtest(modelwithinterest1)  \n"
            ]
        },
        {
            "cell_type": "markdown",
            "metadata": {},
            "source": "\n"
        },
        {
            "cell_type": "code",
            "execution_count": null,
            "metadata": {},
            "outputs": [],
            "source": [
                "## input X_t-1 ##\n",
                "data$lnexchange1 <- c(NA, data$lnexchange[1:47])\n",
                "modelwithlnexchange1<- lm(priceindex~interest+lnexchange1+lnoil+lnKOSPI+COVID1-1, data=data)\n",
                "summary(modelwithlnexchange1)\n",
                "acf(modelwithlnexchange1$residuals, lag.max = 24)\n",
                "dwtest(modelwithlnexchange1)  \n"
            ]
        },
        {
            "cell_type": "markdown",
            "metadata": {},
            "source": "\n"
        },
        {
            "cell_type": "code",
            "execution_count": null,
            "metadata": {},
            "outputs": [],
            "source": [
                "## input X_t-1 ##\n",
                "data$lnKOSPI1 <- c(NA,NA, data$lnKOSPI[1:46])\n",
                "modelwithlnKOSPI1<- lm(priceindex~interest+lnoil+lnKOSPI1+COVID1-1, data=data)\n",
                "summary(modelwithlnKOSPI1)\n",
                "acf(modelwithlnKOSPI1$residuals, lag.max = 24)\n",
                "dwtest(modelwithlnKOSPI1)  \n"
            ]
        },
        {
            "cell_type": "markdown",
            "metadata": {},
            "source": [
                "📌 3) 변수변환 - 차분(차분은 거의 해결해 준다.)  \n",
                "  - 변환 후 차분  \n",
                "  \n"
            ]
        },
        {
            "cell_type": "code",
            "execution_count": null,
            "metadata": {},
            "outputs": [],
            "source": [
                "ynew <- diff(data$priceindex, difference=1)\n",
                "interest_new <- diff(data$interest, difference = 1)\n",
                "lngoods_new <- diff(data$lngoods, difference = 1)\n",
                "lnexchange_new <- diff(data$lnexchange, difference = 1)\n",
                "lnoil_new <- diff(data$lnoil, difference = 1)\n",
                "lnKOSPI_new <- diff(data$lnKOSPI, difference = 1)\n",
                "COVID_new <- diff(data$COVID, difference = 1)\n",
                "\n",
                "diff_data <- data.frame(ynew, interest_new, lngoods_new, lnexchange_new, lnoil_new, lnKOSPI_new, COVID_new)  \n"
            ]
        },
        {
            "cell_type": "markdown",
            "metadata": {},
            "source": "\n"
        },
        {
            "cell_type": "code",
            "execution_count": null,
            "metadata": {},
            "outputs": [],
            "source": [
                "## model 11 : 차분한 모든 변수를 다 넣어본다 ##\n",
                "model11 <- lm(ynew~interest_new+lngoods_new+lnexchange_new+lnoil_new+lnKOSPI_new+COVID_new, data=diff_data)\n",
                "summary(model11)\n",
                "par(mfrow = c(1,2))\n",
                "acf(model1$residuals)\n",
                "acf(model11$residuals)  \n"
            ]
        },
        {
            "cell_type": "markdown",
            "metadata": {},
            "source": "\n"
        },
        {
            "cell_type": "code",
            "execution_count": null,
            "metadata": {},
            "outputs": [],
            "source": [
                "# stepwise \n",
                "step(lm(ynew~interest_new+lngoods_new+lnexchange_new+lnoil_new+lnKOSPI_new+COVID_new, data=diff_data),\n",
                "     scope = list(lower ~ 1, upper = ~interest_new+lngoods_new+lnexchange_new+lnoil_new+lnKOSPI_new+COVID_new), direction = \"backward\")\n",
                "## model 12 : stepwise 한 모델\n",
                "model12 <- lm(formula = ynew ~ interest_new + lnexchange_new + lnoil_new + lnKOSPI_new, data = diff_data)\n",
                "summary(model12)\n",
                "# 유의한 변수는 없고 절편만이 유의한 모형을 제시하였다.\n",
                "par(mfrow = c(1,1))\n",
                "acf(model12$residuals, lag.max = 24)  \n"
            ]
        },
        {
            "cell_type": "markdown",
            "metadata": {},
            "source": "\n"
        },
        {
            "cell_type": "code",
            "execution_count": null,
            "metadata": {},
            "outputs": [],
            "source": [
                "## lngoods 변수는 물가지수와의 상관계수가 0에 가깝고, 거의 모든 모형에서 유의하지 않음을 확인하였으므로 모형에 되도록 넣지 않기로 결정한다.###\n",
                "\n",
                "## model3 vs. 차분한 모형\n",
                "model3 <- lm(priceindex~interest+lnexchange+lnoil+lnKOSPI+COVID-1, data=data_ts)\n",
                "model13 <- lm(ynew ~ interest_new + lnexchange_new + lnoil_new + lnKOSPI_new + COVID_new - 1, data = diff_data)\n",
                "summary(model13)\n",
                "par(mfrow = c(1,2))\n",
                "acf(model3$residuals)\n",
                "acf(model13$residuals)\n",
                "\n",
                "dwtest(model13)\n",
                "## 모형에는 유의하지 않은 변수로 구성되며, 1차자기상관는 없다고 판단된다.\n",
                "## 차분한 모형에서 모든 변수들이 유의하지 않으므로 차분을 사용하지 않는다.\n",
                "## 모든 차분 모형은 유의하지 않으므로 차분을 사용하지 않는다.  \n"
            ]
        },
        {
            "cell_type": "markdown",
            "metadata": {},
            "source": [
                "***\n",
                "\n",
                "## 💸 과거값을 사용한 새로운 변수를 만들어 자기상관을 낮춰보도록 한다.  \n"
            ]
        },
        {
            "cell_type": "code",
            "execution_count": null,
            "metadata": {},
            "outputs": [],
            "source": [
                "########################################################### TEST 1\n",
                "par(mfrow = c(1,1))\n",
                "\n",
                "testy <- data$priceindex\n",
                "testinterest <- c(NA,NA,NA, data$interest[1:45])\n",
                "testlngoods <- data$lngoods\n",
                "testlnexchange <- c(NA, data$lnexchange[1:47])\n",
                "testlnoil <- c(NA, data$lnoil[1:47])\n",
                "testlnKOSPI <- data$lnKOSPI            \n",
                "testCOVID <- c(NA,NA, data$COVID[1:46])\n",
                "testtime <- data$time\n",
                "\n",
                "test <- data.frame(testy, testinterest, testlnexchange, testlnoil, testlnKOSPI, testCOVID)\n",
                "test$COVID_OX <- ifelse(test$testCOVID==0, test$COVID_OX <- 0, test$COVID_OX <- 1)\n",
                "\n",
                "modeltest <- lm(testy ~ testinterest + testlnexchange + testlnoil + testlnKOSPI + testCOVID-1, data = test)\n",
                "\n",
                "summary(modeltest)\n",
                "acf(modeltest$residuals)\n",
                "dwtest(modeltest)\n",
                "### dwtest 결과 p-value가 0.03으로 귀무가설을 기각한다.\n",
                "### 자기상관 문제를 해결하지 못했다.\n",
                "\n",
                "par(mfrow = c(2,4))\n",
                "plot(data$priceindex, type = 'l')\n",
                "plot(data$interest, type = 'l')\n",
                "plot(data$lngoods, type = 'l')\n",
                "plot(data$lnexchange, type = 'l')\n",
                "plot(data$lnoil, type = 'l')\n",
                "plot(data$lnKOSPI, type = 'l')\n",
                "plot(data$COVID, type = 'l')  \n"
            ]
        },
        {
            "cell_type": "markdown",
            "metadata": {},
            "source": "\n"
        },
        {
            "cell_type": "code",
            "execution_count": null,
            "metadata": {},
            "outputs": [],
            "source": [
                "########################################################### TEST 2\n",
                "\n",
                "testy <- data$priceindex\n",
                "testinterest <- c(NA,NA,NA, data$interest[1:45])\n",
                "testlngoods <- c(NA,NA, data$lngoods[1:46])   \n",
                "testlnexchange <- c(NA, data$lnexchange[1:47])\n",
                "testlnoil <- c(NA, data$lnoil[1:47])\n",
                "testlnKOSPI <- data$lnKOSPI            \n",
                "testCOVID <- c(NA,NA, data$COVID[1:46])\n",
                "testtime <- data$time\n",
                "\n",
                "\n",
                "test <- data.frame(testy, testinterest, testlnexchange, testlngoods, testlnKOSPI, testCOVID, testlnoil)\n",
                "test$COVID_OX <- ifelse(test$testCOVID==0, test$COVID_OX <- 0, test$COVID_OX <- 1)\n",
                "\n",
                "modeltest <- lm(testy ~  testinterest + testinterest:(testCOVID) + testlnexchange + testlnoil + testlnKOSPI -1, data = test)\n",
                "\n",
                "\n",
                "summary(modeltest)\n",
                "acf(modeltest$residuals)\n",
                "dwtest(modeltest)\n",
                "### dwtest 결과 p-value가 0.04으로 귀무가설을 기각한다.\n",
                "### 자기상관 문제를 해결하지 못했다.\n",
                "AIC(modeltest)  \n"
            ]
        },
        {
            "cell_type": "markdown",
            "metadata": {},
            "source": "\n"
        },
        {
            "cell_type": "code",
            "execution_count": null,
            "metadata": {},
            "outputs": [],
            "source": [
                "########################################################### TEST 3\n",
                "testy2 <- data$priceindex\n",
                "testlnoil2 <- c(NA, data$lnoil[1:47])\n",
                "testlnKOSPI2 <- data$lnKOSPI\n",
                "testCOVID2 <- c(NA,NA, data$COVID[1:46]) \n",
                "testtime2 <- data$time\n",
                "\n",
                "test2 <- data.frame(testy2, testlnoil2,testlnKOSPI2,testCOVID2,testtime2)\n",
                "modeltest2 <- lm(testy2 ~ testlnoil2 + testlnKOSPI2 + testCOVID2 + testtime2, data = test2)\n",
                "\n",
                "\n",
                "summary(modeltest2)\n",
                "par(mfrow=c(1,1))\n",
                "acf(modeltest2$residuals)\n",
                "dwtest(modeltest2)\n",
                "### dwtest 결과 p-value가 0.001로 귀무가설을 기각한다.\n",
                "### 자기상관 문제를 해결하지 못했다.  \n"
            ]
        },
        {
            "cell_type": "markdown",
            "metadata": {},
            "source": "\n"
        },
        {
            "cell_type": "code",
            "execution_count": null,
            "metadata": {},
            "outputs": [],
            "source": [
                "########################################################### FINAL TEST \n",
                "final_target <- data$priceindex\n",
                "final_interest <- c(NA, data$interest[1:47])\n",
                "final_lngoods <- c(NA,NA,NA, data$lngoods[1:45])       \n",
                "final_lnexchange <- c(NA, data$lnexchange[1:47])\n",
                "final_lnoil <- c(NA, data$lnoil[1:47])\n",
                "final_lnKOSPI <- data$lnKOSPI            \n",
                "final_COVID <-  data$COVID \n",
                "final_time <- data$time\n",
                "\n",
                "\n",
                "final <- data.frame(final_target, final_interest, final_lnexchange, final_lngoods, final_lnKOSPI, final_COVID, final_lnoil, final_time)\n",
                "\n",
                "final$COVID_OX <- ifelse(final$final_COVID==0, final$COVID_OX <- 0, final$COVID_OX <- 1)\n",
                "final$COVID_OX <- c(NA, final$COVID_OX[1:47])\n",
                "\n",
                "model_final <- lm(final_target ~ final_interest:(final_COVID) + final_lnexchange:(COVID_OX) + final_lnoil + final_lnexchange + final_lnKOSPI, data = final)\n",
                "\n",
                "summary(model_final)\n",
                "acf(model_final$residuals)\n",
                "dwtest(model_final)\n",
                "### dwtest 결과 p-value가 0.08으로 귀무가설을 기각하지 못한다.\n",
                "### 자기상관 문제를 해결하였다. \n",
                "\n",
                "AIC(model_final)\n",
                "\n",
                "par(mfrow = c(2,2))\n",
                "plot(model_final)  \n"
            ]
        },
        {
            "cell_type": "markdown",
            "metadata": {},
            "source": [
                "## 💸 종속변수 예측에 미치는 각 독립변수별 설명정도를 시각화하였다.  \n",
                "\n"
            ]
        },
        {
            "cell_type": "code",
            "execution_count": null,
            "metadata": {},
            "outputs": [],
            "source": [
                "relweights <- function(fit, col){\n",
                "  R <- cor(fit$model)\n",
                "  nvar <- ncol(R)\n",
                "  rxx <- R[2:nvar, 2:nvar]\n",
                "  rxy <- R[2:nvar, 1]\n",
                "  svd <- eigen(rxx)\n",
                "  evec <- svd$vectors\n",
                "  ev <- svd$values\n",
                "  delta <- diag(sqrt(ev))\n",
                "  lambda <- evec %*% delta %*% t(evec)\n",
                "  lambdasq <- lambda^2\n",
                "  beta <- solve(lambda) %*% rxy\n",
                "  rsquare <- colSums(beta^2)\n",
                "  rawwgt <- lambdasq %*% beta ^ 2\n",
                "  import <- (rawwgt / rsquare) * 100\n",
                "  import <- as.data.frame(import)\n",
                "  row.names(import) <- names(fit$model[2:nvar])\n",
                "  names(import) <- \"Weights\"\n",
                "  import <- import[order(import),1,drop = FALSE]\n",
                "  dotchart(import$Weights, labels = row.names(import),\n",
                "           xlab = \"% of R-square\", pch = 19,\n",
                "           main = \"Relative Importance of predictor Variables\",\n",
                "           sub = paste(\"Total R-square=\", round(rsquare, digits = 3)),\n",
                "           col = col)\n",
                "  \n",
                "  return(import)\n",
                "}\n",
                "\n",
                "result = relweights(model_final, 'blue')\n",
                "result  \n"
            ]
        },
        {
            "cell_type": "markdown",
            "metadata": {},
            "source": "\n"
        },
        {
            "cell_type": "code",
            "execution_count": null,
            "metadata": {},
            "outputs": [],
            "source": [
                "library(ggplot2)\n",
                "plotRelWeights <- function(fit, col){\n",
                "  data <- relweights(fit, col)\n",
                "  data$Predictors <- rownames(data)\n",
                "  p <- ggplot(data = data, aes(x=reorder(Predictors, Weights), y = Weights, fill=Predictors))+\n",
                "    geom_bar(stat = 'identity',width = 0.5)+\n",
                "    ggtitle(\"Relative Importance of predictor Variables\")+\n",
                "    ylab(paste0(\"% of R-square \\n(Total R-square = \",attr(data, \"R-square\"),\")\"))+\n",
                "    geom_text(aes(y=Weights-0.1, label=paste(round(Weights,1),\"%\")), hjust=1)+\n",
                "    guides(fill=FALSE)+\n",
                "    coord_flip()\n",
                "  \n",
                "  p\n",
                "}\n",
                "\n",
                "plotRelWeights(model_final, 'blue')  \n"
            ]
        }
    ],
    "metadata": {
        "anaconda-cloud": "",
        "kernelspec": {
            "display_name": "R",
            "langauge": "R",
            "name": "ir"
        },
        "language_info": {
            "codemirror_mode": "r",
            "file_extension": ".r",
            "mimetype": "text/x-r-source",
            "name": "R",
            "pygments_lexer": "r",
            "version": "3.4.1"
        }
    },
    "nbformat": 4,
    "nbformat_minor": 1
}
